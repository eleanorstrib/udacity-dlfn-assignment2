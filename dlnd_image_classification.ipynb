{
 "cells": [
  {
   "cell_type": "markdown",
   "metadata": {
    "collapsed": true
   },
   "source": [
    "# Image Classification\n",
    "In this project, you'll classify images from the [CIFAR-10 dataset](https://www.cs.toronto.edu/~kriz/cifar.html).  The dataset consists of airplanes, dogs, cats, and other objects. You'll preprocess the images, then train a convolutional neural network on all the samples. The images need to be normalized and the labels need to be one-hot encoded.  You'll get to apply what you learned and build a convolutional, max pooling, dropout, and fully connected layers.  At the end, you'll get to see your neural network's predictions on the sample images.\n",
    "## Get the Data\n",
    "Run the following cell to download the [CIFAR-10 dataset for python](https://www.cs.toronto.edu/~kriz/cifar-10-python.tar.gz)."
   ]
  },
  {
   "cell_type": "code",
   "execution_count": 1,
   "metadata": {},
   "outputs": [
    {
     "name": "stdout",
     "output_type": "stream",
     "text": [
      "All files found!\n"
     ]
    }
   ],
   "source": [
    "\"\"\"\n",
    "DON'T MODIFY ANYTHING IN THIS CELL THAT IS BELOW THIS LINE\n",
    "\"\"\"\n",
    "from urllib.request import urlretrieve\n",
    "from os.path import isfile, isdir\n",
    "from tqdm import tqdm\n",
    "import problem_unittests as tests\n",
    "import tarfile\n",
    "\n",
    "cifar10_dataset_folder_path = 'cifar-10-batches-py'\n",
    "\n",
    "# Use Floyd's cifar-10 dataset if present\n",
    "floyd_cifar10_location = '/input/cifar-10/python.tar.gz'\n",
    "if isfile(floyd_cifar10_location):\n",
    "    tar_gz_path = floyd_cifar10_location\n",
    "else:\n",
    "    tar_gz_path = 'cifar-10-python.tar.gz'\n",
    "\n",
    "class DLProgress(tqdm):\n",
    "    last_block = 0\n",
    "\n",
    "    def hook(self, block_num=1, block_size=1, total_size=None):\n",
    "        self.total = total_size\n",
    "        self.update((block_num - self.last_block) * block_size)\n",
    "        self.last_block = block_num\n",
    "\n",
    "if not isfile(tar_gz_path):\n",
    "    with DLProgress(unit='B', unit_scale=True, miniters=1, desc='CIFAR-10 Dataset') as pbar:\n",
    "        urlretrieve(\n",
    "            'https://www.cs.toronto.edu/~kriz/cifar-10-python.tar.gz',\n",
    "            tar_gz_path,\n",
    "            pbar.hook)\n",
    "\n",
    "if not isdir(cifar10_dataset_folder_path):\n",
    "    with tarfile.open(tar_gz_path) as tar:\n",
    "        tar.extractall()\n",
    "        tar.close()\n",
    "\n",
    "\n",
    "tests.test_folder_path(cifar10_dataset_folder_path)"
   ]
  },
  {
   "cell_type": "markdown",
   "metadata": {},
   "source": [
    "## Explore the Data\n",
    "The dataset is broken into batches to prevent your machine from running out of memory.  The CIFAR-10 dataset consists of 5 batches, named `data_batch_1`, `data_batch_2`, etc.. Each batch contains the labels and images that are one of the following:\n",
    "* airplane\n",
    "* automobile\n",
    "* bird\n",
    "* cat\n",
    "* deer\n",
    "* dog\n",
    "* frog\n",
    "* horse\n",
    "* ship\n",
    "* truck\n",
    "\n",
    "Understanding a dataset is part of making predictions on the data.  Play around with the code cell below by changing the `batch_id` and `sample_id`. The `batch_id` is the id for a batch (1-5). The `sample_id` is the id for a image and label pair in the batch.\n",
    "\n",
    "Ask yourself \"What are all possible labels?\", \"What is the range of values for the image data?\", \"Are the labels in order or random?\".  Answers to questions like these will help you preprocess the data and end up with better predictions."
   ]
  },
  {
   "cell_type": "code",
   "execution_count": 2,
   "metadata": {},
   "outputs": [
    {
     "name": "stdout",
     "output_type": "stream",
     "text": [
      "\n",
      "Stats of batch 1:\n",
      "Samples: 10000\n",
      "Label Counts: {0: 1005, 1: 974, 2: 1032, 3: 1016, 4: 999, 5: 937, 6: 1030, 7: 1001, 8: 1025, 9: 981}\n",
      "First 20 Labels: [6, 9, 9, 4, 1, 1, 2, 7, 8, 3, 4, 7, 7, 2, 9, 9, 9, 3, 2, 6]\n",
      "\n",
      "Example of Image 500:\n",
      "Image - Min Value: 0 Max Value: 255\n",
      "Image - Shape: (32, 32, 3)\n",
      "Label - Label Id: 5 Name: dog\n"
     ]
    },
    {
     "data": {
      "image/png": "[encoded data removed]",
      "text/plain": [
       "<matplotlib.figure.Figure at 0x7fe71c291940>"
      ]
     },
     "metadata": {
      "image/png": {
       "height": 250,
       "width": 253
      }
     },
     "output_type": "display_data"
    }
   ],
   "source": [
    "%matplotlib inline\n",
    "%config InlineBackend.figure_format = 'retina'\n",
    "\n",
    "import helper\n",
    "import numpy as np\n",
    "\n",
    "# Explore the dataset\n",
    "batch_id = 1\n",
    "sample_id = 500\n",
    "helper.display_stats(cifar10_dataset_folder_path, batch_id, sample_id)"
   ]
  },
  {
   "cell_type": "markdown",
   "metadata": {},
   "source": [
    "## Implement Preprocess Functions\n",
    "### Normalize\n",
    "In the cell below, implement the `normalize` function to take in image data, `x`, and return it as a normalized Numpy array. The values should be in the range of 0 to 1, inclusive.  The return object should be the same shape as `x`."
   ]
  },
  {
   "cell_type": "code",
   "execution_count": 3,
   "metadata": {},
   "outputs": [
    {
     "name": "stdout",
     "output_type": "stream",
     "text": [
      "Tests Passed\n"
     ]
    }
   ],
   "source": [
    "def normalize(x):\n",
    "    \"\"\"\n",
    "    Normalize a list of sample image data in the range of 0 to 1\n",
    "    : x: List of image data.  The image shape is (32, 32, 3)\n",
    "    : return: Numpy array of normalize data\n",
    "    \"\"\"\n",
    "    x = np.array((x - np.min(x))/(np.max(x)-np.min(x)))\n",
    "    return x\n",
    "\n",
    "\n",
    "\"\"\"\n",
    "DON'T MODIFY ANYTHING IN THIS CELL THAT IS BELOW THIS LINE\n",
    "\"\"\"\n",
    "tests.test_normalize(normalize)"
   ]
  },
  {
   "cell_type": "markdown",
   "metadata": {},
   "source": [
    "### One-hot encode\n",
    "Just like the previous code cell, you'll be implementing a function for preprocessing.  This time, you'll implement the `one_hot_encode` function. The input, `x`, are a list of labels.  Implement the function to return the list of labels as One-Hot encoded Numpy array.  The possible values for labels are 0 to 9. The one-hot encoding function should return the same encoding for each value between each call to `one_hot_encode`.  Make sure to save the map of encodings outside the function.\n",
    "\n",
    "Hint: Don't reinvent the wheel."
   ]
  },
  {
   "cell_type": "code",
   "execution_count": 4,
   "metadata": {},
   "outputs": [
    {
     "name": "stdout",
     "output_type": "stream",
     "text": [
      "Tests Passed\n"
     ]
    }
   ],
   "source": [
    "from sklearn.preprocessing import LabelBinarizer\n",
    "lb = LabelBinarizer()\n",
    "lb = lb.fit(range(10))\n",
    "\n",
    "def one_hot_encode(x):\n",
    "    \"\"\"\n",
    "    One hot encode a list of sample labels. Return a one-hot encoded vector for each label.\n",
    "    : x: List of sample Labels\n",
    "    : return: Numpy array of one-hot encoded labels\n",
    "    \"\"\"\n",
    "    x = lb.transform(x)\n",
    "    return x\n",
    "\n",
    "\n",
    "\n",
    "\"\"\"\n",
    "DON'T MODIFY ANYTHING IN THIS CELL THAT IS BELOW THIS LINE\n",
    "\"\"\"\n",
    "tests.test_one_hot_encode(one_hot_encode)"
   ]
  },
  {
   "cell_type": "markdown",
   "metadata": {},
   "source": [
    "### Randomize Data\n",
    "As you saw from exploring the data above, the order of the samples are randomized.  It doesn't hurt to randomize it again, but you don't need to for this dataset."
   ]
  },
  {
   "cell_type": "markdown",
   "metadata": {},
   "source": [
    "## Preprocess all the data and save it\n",
    "Running the code cell below will preprocess all the CIFAR-10 data and save it to file. The code below also uses 10% of the training data for validation."
   ]
  },
  {
   "cell_type": "code",
   "execution_count": 5,
   "metadata": {
    "collapsed": true
   },
   "outputs": [],
   "source": [
    "\"\"\"\n",
    "DON'T MODIFY ANYTHING IN THIS CELL\n",
    "\"\"\"\n",
    "# Preprocess Training, Validation, and Testing Data\n",
    "helper.preprocess_and_save_data(cifar10_dataset_folder_path, normalize, one_hot_encode)"
   ]
  },
  {
   "cell_type": "code",
   "execution_count": 6,
   "metadata": {
    "collapsed": true
   },
   "outputs": [],
   "source": [
    "\"\"\"\n",
    "DON'T MODIFY ANYTHING IN THIS CELL\n",
    "\"\"\"\n",
    "import pickle\n",
    "import problem_unittests as tests\n",
    "import helper\n",
    "\n",
    "# Load the Preprocessed Validation data\n",
    "valid_features, valid_labels = pickle.load(open('preprocess_validation.p', mode='rb'))"
   ]
  },
  {
   "cell_type": "markdown",
   "metadata": {},
   "source": [
    "## Build the network\n",
    "For the neural network, you'll build each layer into a function.  Most of the code you've seen has been outside of functions. To test your code more thoroughly, we require that you put each layer in a function.  This allows us to give you better feedback and test for simple mistakes using our unittests before you submit your project.\n",
    "\n",
    ">**Note:** If you're finding it hard to dedicate enough time for this course each week, we've provided a small shortcut to this part of the project. In the next couple of problems, you'll have the option to use classes from the [TensorFlow Layers](https://www.tensorflow.org/api_docs/python/tf/layers) or [TensorFlow Layers (contrib)](https://www.tensorflow.org/api_guides/python/contrib.layers) packages to build each layer, except the layers you build in the \"Convolutional and Max Pooling Layer\" section.  TF Layers is similar to Keras's and TFLearn's abstraction to layers, so it's easy to pickup.\n",
    "\n",
    ">However, if you would like to get the most out of this course, try to solve all the problems _without_ using anything from the TF Layers packages. You **can** still use classes from other packages that happen to have the same name as ones you find in TF Layers! For example, instead of using the TF Layers version of the `conv2d` class, [tf.layers.conv2d](https://www.tensorflow.org/api_docs/python/tf/layers/conv2d), you would want to use the TF Neural Network version of `conv2d`, [tf.nn.conv2d](https://www.tensorflow.org/api_docs/python/tf/nn/conv2d). \n",
    "\n",
    "Let's begin!\n",
    "\n",
    "### Input\n",
    "The neural network needs to read the image data, one-hot encoded labels, and dropout keep probability. Implement the following functions\n",
    "* Implement `neural_net_image_input`\n",
    " * Return a [TF Placeholder](https://www.tensorflow.org/api_docs/python/tf/placeholder)\n",
    " * Set the shape using `image_shape` with batch size set to `None`.\n",
    " * Name the TensorFlow placeholder \"x\" using the TensorFlow `name` parameter in the [TF Placeholder](https://www.tensorflow.org/api_docs/python/tf/placeholder).\n",
    "* Implement `neural_net_label_input`\n",
    " * Return a [TF Placeholder](https://www.tensorflow.org/api_docs/python/tf/placeholder)\n",
    " * Set the shape using `n_classes` with batch size set to `None`.\n",
    " * Name the TensorFlow placeholder \"y\" using the TensorFlow `name` parameter in the [TF Placeholder](https://www.tensorflow.org/api_docs/python/tf/placeholder).\n",
    "* Implement `neural_net_keep_prob_input`\n",
    " * Return a [TF Placeholder](https://www.tensorflow.org/api_docs/python/tf/placeholder) for dropout keep probability.\n",
    " * Name the TensorFlow placeholder \"keep_prob\" using the TensorFlow `name` parameter in the [TF Placeholder](https://www.tensorflow.org/api_docs/python/tf/placeholder).\n",
    "\n",
    "These names will be used at the end of the project to load your saved model.\n",
    "\n",
    "Note: `None` for shapes in TensorFlow allow for a dynamic size."
   ]
  },
  {
   "cell_type": "code",
   "execution_count": 7,
   "metadata": {},
   "outputs": [
    {
     "name": "stdout",
     "output_type": "stream",
     "text": [
      "Image Input Tests Passed.\n",
      "Label Input Tests Passed.\n",
      "Keep Prob Tests Passed.\n"
     ]
    }
   ],
   "source": [
    "import tensorflow as tf\n",
    "\n",
    "def neural_net_image_input(image_shape):\n",
    "    \"\"\"\n",
    "    Return a Tensor for a batch of image input\n",
    "    : image_shape: Shape of the images\n",
    "    : return: Tensor for image input.\n",
    "    \"\"\"\n",
    "    return tf.placeholder(tf.float32, \n",
    "                          name='x', \n",
    "                          shape=(None, image_shape[0], image_shape[1], image_shape[2])\n",
    "                         )\n",
    "\n",
    "\n",
    "def neural_net_label_input(n_classes):\n",
    "    \"\"\"\n",
    "    Return a Tensor for a batch of label input\n",
    "    : n_classes: Number of classes\n",
    "    : return: Tensor for label input.\n",
    "    \"\"\"\n",
    "    return tf.placeholder(tf.float32,\n",
    "                          name='y',\n",
    "                          shape=(None, n_classes)\n",
    "                        )\n",
    "\n",
    "\n",
    "def neural_net_keep_prob_input():\n",
    "    \"\"\"\n",
    "    Return a Tensor for keep probability\n",
    "    : return: Tensor for keep probability.\n",
    "    \"\"\"\n",
    "    return tf.placeholder(tf.float32,\n",
    "                         name='keep_prob')\n",
    "\n",
    "\n",
    "\"\"\"\n",
    "DON'T MODIFY ANYTHING IN THIS CELL THAT IS BELOW THIS LINE\n",
    "\"\"\"\n",
    "tf.reset_default_graph()\n",
    "tests.test_nn_image_inputs(neural_net_image_input)\n",
    "tests.test_nn_label_inputs(neural_net_label_input)\n",
    "tests.test_nn_keep_prob_inputs(neural_net_keep_prob_input)"
   ]
  },
  {
   "cell_type": "markdown",
   "metadata": {},
   "source": [
    "### Convolution and Max Pooling Layer\n",
    "Convolution layers have a lot of success with images. For this code cell, you should implement the function `conv2d_maxpool` to apply convolution then max pooling:\n",
    "* Create the weight and bias using `conv_ksize`, `conv_num_outputs` and the shape of `x_tensor`.\n",
    "* Apply a convolution to `x_tensor` using weight and `conv_strides`.\n",
    " * We recommend you use same padding, but you're welcome to use any padding.\n",
    "* Add bias\n",
    "* Add a nonlinear activation to the convolution.\n",
    "* Apply Max Pooling using `pool_ksize` and `pool_strides`.\n",
    " * We recommend you use same padding, but you're welcome to use any padding.\n",
    "\n",
    "**Note:** You **can't** use [TensorFlow Layers](https://www.tensorflow.org/api_docs/python/tf/layers) or [TensorFlow Layers (contrib)](https://www.tensorflow.org/api_guides/python/contrib.layers) for **this** layer, but you can still use TensorFlow's [Neural Network](https://www.tensorflow.org/api_docs/python/tf/nn) package. You may still use the shortcut option for all the **other** layers."
   ]
  },
  {
   "cell_type": "code",
   "execution_count": 8,
   "metadata": {},
   "outputs": [
    {
     "name": "stdout",
     "output_type": "stream",
     "text": [
      "Tests Passed\n"
     ]
    }
   ],
   "source": [
    "def conv2d_maxpool(x_tensor, conv_num_outputs, conv_ksize, conv_strides, pool_ksize, pool_strides):\n",
    "    \"\"\"\n",
    "    Apply convolution then max pooling to x_tensor\n",
    "    :param x_tensor: TensorFlow Tensor\n",
    "    :param conv_num_outputs: Number of outputs for the convolutional layer\n",
    "    :param conv_ksize: kernal size 2-D Tuple for the convolutional layer\n",
    "    :param conv_strides: Stride 2-D Tuple for convolution\n",
    "    :param pool_ksize: kernal size 2-D Tuple for pool\n",
    "    :param pool_strides: Stride 2-D Tuple for pool\n",
    "    : return: A tensor that represents convolution and max pooling of x_tensor\n",
    "    \"\"\"\n",
    "    color_channels = x_tensor.get_shape().as_list()[-1]\n",
    "    padding_value = 1\n",
    "    padding_type = 'SAME'\n",
    "    \n",
    "    f_weight = tf.Variable(tf.truncated_normal(\n",
    "                        [conv_ksize[0],\n",
    "                         conv_ksize[1],\n",
    "                         color_channels,\n",
    "                         conv_num_outputs],\n",
    "                        stddev=0.04,\n",
    "                        dtype=tf.float32\n",
    "                        ))\n",
    "    f_bias = tf.Variable(tf.zeros(conv_num_outputs))\n",
    "    \n",
    "    strides_conv = [padding_value, conv_strides[0], conv_strides[1], padding_value]\n",
    "    conv_layer = tf.nn.conv2d(x_tensor, f_weight, strides=strides_conv, padding=padding_type)\n",
    "    conv_layer = tf.nn.bias_add(conv_layer, f_bias)\n",
    "    \n",
    "    conv_layer = tf.nn.relu(conv_layer)\n",
    "    \n",
    "    strides_pool = [padding_value, pool_strides[0], pool_strides[1], padding_value]\n",
    "    conv_layer = tf.nn.max_pool(conv_layer, [1, pool_ksize[0], pool_ksize[1], 1], strides_pool, padding_type)\n",
    "\n",
    "    return conv_layer\n",
    "\n",
    "\"\"\"\n",
    "DON'T MODIFY ANYTHING IN THIS CELL THAT IS BELOW THIS LINE\n",
    "\"\"\"\n",
    "tests.test_con_pool(conv2d_maxpool)"
   ]
  },
  {
   "cell_type": "markdown",
   "metadata": {},
   "source": [
    "### Flatten Layer\n",
    "Implement the `flatten` function to change the dimension of `x_tensor` from a 4-D tensor to a 2-D tensor.  The output should be the shape (*Batch Size*, *Flattened Image Size*). Shortcut option: you can use classes from the [TensorFlow Layers](https://www.tensorflow.org/api_docs/python/tf/layers) or [TensorFlow Layers (contrib)](https://www.tensorflow.org/api_guides/python/contrib.layers) packages for this layer. For more of a challenge, only use other TensorFlow packages."
   ]
  },
  {
   "cell_type": "markdown",
   "metadata": {},
   "source": [
    "# Check Point\n",
    "This is your first checkpoint.  If you ever decide to come back to this notebook or have to restart the notebook, you can start from here.  The preprocessed data has been saved to disk."
   ]
  },
  {
   "cell_type": "code",
   "execution_count": 9,
   "metadata": {},
   "outputs": [
    {
     "name": "stdout",
     "output_type": "stream",
     "text": [
      "Tests Passed\n"
     ]
    }
   ],
   "source": [
    "def flatten(x_tensor):\n",
    "    \"\"\"\n",
    "    Flatten x_tensor to (Batch Size, Flattened Image Size)\n",
    "    : x_tensor: A tensor of size (Batch Size, ...), where ... are the image dimensions.\n",
    "    : return: A tensor of size (Batch Size, Flattened Image Size).\n",
    "    \"\"\"\n",
    "    \n",
    "    t_shape = x_tensor.get_shape().as_list()\n",
    "    flattened = tf.reshape(x_tensor, [-1, t_shape[1]*t_shape[2]*t_shape[3]])\n",
    "    return flattened\n",
    "\n",
    "\n",
    "\"\"\"\n",
    "DON'T MODIFY ANYTHING IN THIS CELL THAT IS BELOW THIS LINE\n",
    "\"\"\"\n",
    "tests.test_flatten(flatten)"
   ]
  },
  {
   "cell_type": "markdown",
   "metadata": {},
   "source": [
    "### Fully-Connected Layer\n",
    "Implement the `fully_conn` function to apply a fully connected layer to `x_tensor` with the shape (*Batch Size*, *num_outputs*). Shortcut option: you can use classes from the [TensorFlow Layers](https://www.tensorflow.org/api_docs/python/tf/layers) or [TensorFlow Layers (contrib)](https://www.tensorflow.org/api_guides/python/contrib.layers) packages for this layer. For more of a challenge, only use other TensorFlow packages."
   ]
  },
  {
   "cell_type": "code",
   "execution_count": 10,
   "metadata": {},
   "outputs": [
    {
     "name": "stdout",
     "output_type": "stream",
     "text": [
      "Tests Passed\n"
     ]
    }
   ],
   "source": [
    "def fully_conn(x_tensor, num_outputs):\n",
    "    \"\"\"\n",
    "    Apply a fully connected layer to x_tensor using weight and bias\n",
    "    : x_tensor: A 2-D tensor where the first dimension is batch size.\n",
    "    : num_outputs: The number of output that the new tensor should be.\n",
    "    : return: A 2-D tensor where the second dimension is num_outputs.\n",
    "    \"\"\"\n",
    "    \n",
    "    weight = tf.Variable(tf.truncated_normal(\n",
    "                        [x_tensor.get_shape().as_list()[1],\n",
    "                         num_outputs], \n",
    "                        stddev=0.04,\n",
    "                        dtype=tf.float32\n",
    "                        ))\n",
    "    bias = tf.Variable(tf.zeros(num_outputs))\n",
    "    fc = tf.add(tf.matmul(x_tensor, weight), bias)  \n",
    "    fc = tf.nn.relu(fc)\n",
    "    return fc\n",
    "\n",
    "\n",
    "\"\"\"\n",
    "DON'T MODIFY ANYTHING IN THIS CELL THAT IS BELOW THIS LINE\n",
    "\"\"\"\n",
    "tests.test_fully_conn(fully_conn)"
   ]
  },
  {
   "cell_type": "markdown",
   "metadata": {},
   "source": [
    "### Output Layer\n",
    "Implement the `output` function to apply a fully connected layer to `x_tensor` with the shape (*Batch Size*, *num_outputs*). Shortcut option: you can use classes from the [TensorFlow Layers](https://www.tensorflow.org/api_docs/python/tf/layers) or [TensorFlow Layers (contrib)](https://www.tensorflow.org/api_guides/python/contrib.layers) packages for this layer. For more of a challenge, only use other TensorFlow packages.\n",
    "\n",
    "**Note:** Activation, softmax, or cross entropy should **not** be applied to this."
   ]
  },
  {
   "cell_type": "code",
   "execution_count": 11,
   "metadata": {},
   "outputs": [
    {
     "name": "stdout",
     "output_type": "stream",
     "text": [
      "Tests Passed\n"
     ]
    }
   ],
   "source": [
    "def output(x_tensor, num_outputs):\n",
    "    \"\"\"\n",
    "    Apply a output layer to x_tensor using weight and bias\n",
    "    : x_tensor: A 2-D tensor where the first dimension is batch size.\n",
    "    : num_outputs: The number of output that the new tensor should be.\n",
    "    : return: A 2-D tensor where the second dimension is num_outputs.\n",
    "    \"\"\"\n",
    "    weight = tf.Variable(tf.truncated_normal(\n",
    "                    [x_tensor.get_shape().as_list()[1],\n",
    "                     num_outputs], \n",
    "                    stddev=0.03,\n",
    "                    dtype=tf.float32\n",
    "                    ))\n",
    "    bias = tf.Variable(tf.random_normal([num_outputs])) \n",
    "    out = tf.add(tf.matmul(x_tensor, weight), bias)\n",
    "\n",
    "    return out\n",
    "\n",
    "\n",
    "\"\"\"\n",
    "DON'T MODIFY ANYTHING IN THIS CELL THAT IS BELOW THIS LINE\n",
    "\"\"\"\n",
    "tests.test_output(output)"
   ]
  },
  {
   "cell_type": "markdown",
   "metadata": {},
   "source": [
    "### Create Convolutional Model\n",
    "Implement the function `conv_net` to create a convolutional neural network model. The function takes in a batch of images, `x`, and outputs logits.  Use the layers you created above to create this model:\n",
    "\n",
    "* Apply 1, 2, or 3 Convolution and Max Pool layers\n",
    "* Apply a Flatten Layer\n",
    "* Apply 1, 2, or 3 Fully Connected Layers\n",
    "* Apply an Output Layer\n",
    "* Return the output\n",
    "* Apply [TensorFlow's Dropout](https://www.tensorflow.org/api_docs/python/tf/nn/dropout) to one or more layers in the model using `keep_prob`. "
   ]
  },
  {
   "cell_type": "code",
   "execution_count": 12,
   "metadata": {},
   "outputs": [
    {
     "name": "stdout",
     "output_type": "stream",
     "text": [
      "Tensor(\"x:0\", shape=(?, 32, 32, 3), dtype=float32)\n",
      "Tensor(\"Placeholder:0\", shape=(?, 32, 32, 3), dtype=float32)\n",
      "Neural Network Built!\n"
     ]
    }
   ],
   "source": [
    "def conv_net(x, keep_prob):\n",
    "    \"\"\"\n",
    "    Create a convolutional neural network model\n",
    "    : x: Placeholder tensor that holds image data.\n",
    "    : keep_prob: Placeholder tensor that hold dropout keep probability.\n",
    "    : return: Tensor that represents logits\n",
    "    \"\"\"\n",
    "    conv_num_outputs = 10 # number of outputs for the convolutional layer\n",
    "    conv_ksize = (3,3) # kernal/filter size for convolutional layer\n",
    "    conv_strides = (1,1) #2-D tuple representing movement of the filter across the image\n",
    "    pool_ksize = (3,3) #kernal/filter and max pool step\n",
    "    pool_strides = (2,2) #movement of filter across the image\n",
    "    \n",
    "    # TODO: Apply 1, 2, or 3 Convolution and Max Pool layers\n",
    "    #    Play around with different number of outputs, kernel size and stride\n",
    "    # Function Definition from Above:\n",
    "    #    conv2d_maxpool(x_tensor, conv_num_outputs, conv_ksize, conv_strides, pool_ksize, pool_strides)\n",
    "    print(x)\n",
    "    layer_0 = conv2d_maxpool(x, conv_num_outputs, conv_ksize, conv_strides, pool_ksize, pool_strides)\n",
    "    layer_1 = conv2d_maxpool(layer_0, conv_num_outputs, conv_ksize, conv_strides, pool_ksize, pool_strides)\n",
    "    \n",
    "    # TODO: Apply a Flatten Layer\n",
    "    # Function Definition from Above:\n",
    "    #   flatten(x_tensor)\n",
    "    \n",
    "    flattened_layer = flatten(layer_1)\n",
    "    \n",
    "    # TODO: Apply 1, 2, or 3 Fully Connected Layers\n",
    "    #    Play around with different number of outputs\n",
    "    # Function Definition from Above:\n",
    "    #   fully_conn(x_tensor, num_outputs)\n",
    "    fully_conn_layer = fully_conn(flattened_layer, 300)\n",
    "    fully_conn_layer = fully_conn(fully_conn_layer, 170)\n",
    "    fully_conn_layer_d = tf.nn.dropout(fully_conn_layer, keep_prob)\n",
    "    \n",
    "    # TODO: Apply an Output Layer\n",
    "    #    Set this to the number of classes\n",
    "    # Function Definition from Above:\n",
    "    #   output(x_tensor, num_outputs)\n",
    "    output_values = output(fully_conn_layer_d, conv_num_outputs)\n",
    "\n",
    "\n",
    "    # TODO: return output\n",
    "    return output_values\n",
    "\n",
    "\n",
    "\"\"\"\n",
    "DON'T MODIFY ANYTHING IN THIS CELL THAT IS BELOW THIS LINE\n",
    "\"\"\"\n",
    "\n",
    "##############################\n",
    "## Build the Neural Network ##\n",
    "##############################\n",
    "\n",
    "# Remove previous weights, bias, inputs, etc..\n",
    "tf.reset_default_graph()\n",
    "\n",
    "# Inputs\n",
    "x = neural_net_image_input((32, 32, 3))\n",
    "y = neural_net_label_input(10)\n",
    "keep_prob = neural_net_keep_prob_input()\n",
    "\n",
    "# Model\n",
    "logits = conv_net(x, keep_prob)\n",
    "\n",
    "# Name logits Tensor, so that is can be loaded from disk after training\n",
    "logits = tf.identity(logits, name='logits')\n",
    "\n",
    "# Loss and Optimizer\n",
    "cost = tf.reduce_mean(tf.nn.softmax_cross_entropy_with_logits(logits=logits, labels=y))\n",
    "optimizer = tf.train.AdamOptimizer().minimize(cost)\n",
    "\n",
    "# Accuracy\n",
    "correct_pred = tf.equal(tf.argmax(logits, 1), tf.argmax(y, 1))\n",
    "accuracy = tf.reduce_mean(tf.cast(correct_pred, tf.float32), name='accuracy')\n",
    "\n",
    "tests.test_conv_net(conv_net)"
   ]
  },
  {
   "cell_type": "markdown",
   "metadata": {},
   "source": [
    "## Train the Neural Network\n",
    "### Single Optimization\n",
    "Implement the function `train_neural_network` to do a single optimization.  The optimization should use `optimizer` to optimize in `session` with a `feed_dict` of the following:\n",
    "* `x` for image input\n",
    "* `y` for labels\n",
    "* `keep_prob` for keep probability for dropout\n",
    "\n",
    "This function will be called for each batch, so `tf.global_variables_initializer()` has already been called.\n",
    "\n",
    "Note: Nothing needs to be returned. This function is only optimizing the neural network."
   ]
  },
  {
   "cell_type": "code",
   "execution_count": 13,
   "metadata": {},
   "outputs": [
    {
     "name": "stdout",
     "output_type": "stream",
     "text": [
      "Tests Passed\n"
     ]
    }
   ],
   "source": [
    "def train_neural_network(session, optimizer, keep_probability, feature_batch, label_batch):\n",
    "    \"\"\"\n",
    "    Optimize the session on a batch of images and labels\n",
    "    : session: Current TensorFlow session\n",
    "    : optimizer: TensorFlow optimizer function\n",
    "    : keep_probability: keep probability\n",
    "    : feature_batch: Batch of Numpy image data\n",
    "    : label_batch: Batch of Numpy label data\n",
    "    \"\"\"\n",
    "    # TO DO: Add function\n",
    "    # added \"as_default\" method to address a session-related error I encountered when training\n",
    "    with session.as_default() as s:\n",
    "        s.run(optimizer, feed_dict={x: feature_batch,\n",
    "                                    y: label_batch,\n",
    "                                    keep_prob: keep_probability})\n",
    "\n",
    "\n",
    "\"\"\"\n",
    "DON'T MODIFY ANYTHING IN THIS CELL THAT IS BELOW THIS LINE\n",
    "\"\"\"\n",
    "tests.test_train_nn(train_neural_network)"
   ]
  },
  {
   "cell_type": "markdown",
   "metadata": {},
   "source": [
    "### Show Stats\n",
    "Implement the function `print_stats` to print loss and validation accuracy.  Use the global variables `valid_features` and `valid_labels` to calculate validation accuracy.  Use a keep probability of `1.0` to calculate the loss and validation accuracy."
   ]
  },
  {
   "cell_type": "code",
   "execution_count": 14,
   "metadata": {
    "collapsed": true
   },
   "outputs": [],
   "source": [
    "def print_stats(session, feature_batch, label_batch, cost, accuracy):\n",
    "    \"\"\"\n",
    "    Print information about loss and validation accuracy\n",
    "    : session: Current TensorFlow session\n",
    "    : feature_batch: Batch of Numpy image data\n",
    "    : label_batch: Batch of Numpy label data\n",
    "    : cost: TensorFlow cost function\n",
    "    : accuracy: TensorFlow accuracy function\n",
    "    \"\"\"\n",
    "    # TODO: write function\n",
    "    loss = sess.run(cost, feed_dict={\n",
    "                x: feature_batch,\n",
    "                y: label_batch,\n",
    "                keep_prob: 1.})\n",
    "    valid_acc = sess.run(accuracy, feed_dict={\n",
    "                x: valid_features,\n",
    "                y: valid_labels,\n",
    "                keep_prob: 1.})\n",
    "    print('Loss: {:>10.4f}; Validation Accuracy: {:.6f}'.format(loss, valid_acc))"
   ]
  },
  {
   "cell_type": "markdown",
   "metadata": {},
   "source": [
    "### Hyperparameters\n",
    "Tune the following parameters:\n",
    "* Set `epochs` to the number of iterations until the network stops learning or start overfitting\n",
    "* Set `batch_size` to the highest number that your machine has memory for.  Most people set them to common sizes of memory:\n",
    " * 64\n",
    " * 128\n",
    " * 256\n",
    " * ...\n",
    "* Set `keep_probability` to the probability of keeping a node using dropout"
   ]
  },
  {
   "cell_type": "code",
   "execution_count": 15,
   "metadata": {
    "collapsed": true
   },
   "outputs": [],
   "source": [
    "# TODO: Tune Parameters\n",
    "epochs = 60\n",
    "batch_size = 256\n",
    "keep_probability = 0.75"
   ]
  },
  {
   "cell_type": "markdown",
   "metadata": {},
   "source": [
    "### Train on a Single CIFAR-10 Batch\n",
    "Instead of training the neural network on all the CIFAR-10 batches of data, let's use a single batch. This should save time while you iterate on the model to get a better accuracy.  Once the final validation accuracy is 50% or greater, run the model on all the data in the next section."
   ]
  },
  {
   "cell_type": "code",
   "execution_count": 16,
   "metadata": {},
   "outputs": [
    {
     "name": "stdout",
     "output_type": "stream",
     "text": [
      "Checking the Training on a Single Batch...\n",
      "Epoch  1, CIFAR-10 Batch 1:  Loss:     2.3051; Validation Accuracy: 0.116200\n",
      "Epoch  2, CIFAR-10 Batch 1:  Loss:     2.2425; Validation Accuracy: 0.155200\n",
      "Epoch  3, CIFAR-10 Batch 1:  Loss:     2.2160; Validation Accuracy: 0.174200\n",
      "Epoch  4, CIFAR-10 Batch 1:  Loss:     2.2159; Validation Accuracy: 0.194000\n",
      "Epoch  5, CIFAR-10 Batch 1:  Loss:     2.2157; Validation Accuracy: 0.245600\n",
      "Epoch  6, CIFAR-10 Batch 1:  Loss:     2.2230; Validation Accuracy: 0.258600\n",
      "Epoch  7, CIFAR-10 Batch 1:  Loss:     2.0884; Validation Accuracy: 0.324200\n",
      "Epoch  8, CIFAR-10 Batch 1:  Loss:     1.9240; Validation Accuracy: 0.370800\n",
      "Epoch  9, CIFAR-10 Batch 1:  Loss:     1.7603; Validation Accuracy: 0.404200\n",
      "Epoch 10, CIFAR-10 Batch 1:  Loss:     1.6484; Validation Accuracy: 0.425800\n",
      "Epoch 11, CIFAR-10 Batch 1:  Loss:     1.5578; Validation Accuracy: 0.441800\n",
      "Epoch 12, CIFAR-10 Batch 1:  Loss:     1.5133; Validation Accuracy: 0.456600\n",
      "Epoch 13, CIFAR-10 Batch 1:  Loss:     1.4318; Validation Accuracy: 0.460600\n",
      "Epoch 14, CIFAR-10 Batch 1:  Loss:     1.3663; Validation Accuracy: 0.471400\n",
      "Epoch 15, CIFAR-10 Batch 1:  Loss:     1.3232; Validation Accuracy: 0.470200\n",
      "Epoch 16, CIFAR-10 Batch 1:  Loss:     1.2719; Validation Accuracy: 0.494800\n",
      "Epoch 17, CIFAR-10 Batch 1:  Loss:     1.1971; Validation Accuracy: 0.494600\n",
      "Epoch 18, CIFAR-10 Batch 1:  Loss:     1.1549; Validation Accuracy: 0.504600\n",
      "Epoch 19, CIFAR-10 Batch 1:  Loss:     1.1094; Validation Accuracy: 0.508200\n",
      "Epoch 20, CIFAR-10 Batch 1:  Loss:     1.0571; Validation Accuracy: 0.511000\n",
      "Epoch 21, CIFAR-10 Batch 1:  Loss:     1.0249; Validation Accuracy: 0.514800\n",
      "Epoch 22, CIFAR-10 Batch 1:  Loss:     0.9786; Validation Accuracy: 0.525000\n",
      "Epoch 23, CIFAR-10 Batch 1:  Loss:     0.9354; Validation Accuracy: 0.527000\n",
      "Epoch 24, CIFAR-10 Batch 1:  Loss:     0.9177; Validation Accuracy: 0.528400\n",
      "Epoch 25, CIFAR-10 Batch 1:  Loss:     0.8636; Validation Accuracy: 0.536000\n",
      "Epoch 26, CIFAR-10 Batch 1:  Loss:     0.8656; Validation Accuracy: 0.532000\n",
      "Epoch 27, CIFAR-10 Batch 1:  Loss:     0.8086; Validation Accuracy: 0.540400\n",
      "Epoch 28, CIFAR-10 Batch 1:  Loss:     0.7695; Validation Accuracy: 0.543600\n",
      "Epoch 29, CIFAR-10 Batch 1:  Loss:     0.7378; Validation Accuracy: 0.544000\n",
      "Epoch 30, CIFAR-10 Batch 1:  Loss:     0.7298; Validation Accuracy: 0.534800\n",
      "Epoch 31, CIFAR-10 Batch 1:  Loss:     0.6785; Validation Accuracy: 0.542200\n",
      "Epoch 32, CIFAR-10 Batch 1:  Loss:     0.7130; Validation Accuracy: 0.532400\n",
      "Epoch 33, CIFAR-10 Batch 1:  Loss:     0.6167; Validation Accuracy: 0.549400\n",
      "Epoch 34, CIFAR-10 Batch 1:  Loss:     0.6353; Validation Accuracy: 0.535600\n",
      "Epoch 35, CIFAR-10 Batch 1:  Loss:     0.5829; Validation Accuracy: 0.542600\n",
      "Epoch 36, CIFAR-10 Batch 1:  Loss:     0.5501; Validation Accuracy: 0.545000\n",
      "Epoch 37, CIFAR-10 Batch 1:  Loss:     0.5091; Validation Accuracy: 0.550200\n",
      "Epoch 38, CIFAR-10 Batch 1:  Loss:     0.4713; Validation Accuracy: 0.558400\n",
      "Epoch 39, CIFAR-10 Batch 1:  Loss:     0.4392; Validation Accuracy: 0.562400\n",
      "Epoch 40, CIFAR-10 Batch 1:  Loss:     0.4279; Validation Accuracy: 0.551400\n",
      "Epoch 41, CIFAR-10 Batch 1:  Loss:     0.4078; Validation Accuracy: 0.558800\n",
      "Epoch 42, CIFAR-10 Batch 1:  Loss:     0.4145; Validation Accuracy: 0.551200\n",
      "Epoch 43, CIFAR-10 Batch 1:  Loss:     0.3822; Validation Accuracy: 0.553200\n",
      "Epoch 44, CIFAR-10 Batch 1:  Loss:     0.3309; Validation Accuracy: 0.574200\n",
      "Epoch 45, CIFAR-10 Batch 1:  Loss:     0.3397; Validation Accuracy: 0.568400\n",
      "Epoch 46, CIFAR-10 Batch 1:  Loss:     0.3189; Validation Accuracy: 0.569200\n",
      "Epoch 47, CIFAR-10 Batch 1:  Loss:     0.2894; Validation Accuracy: 0.565800\n",
      "Epoch 48, CIFAR-10 Batch 1:  Loss:     0.2527; Validation Accuracy: 0.572800\n",
      "Epoch 49, CIFAR-10 Batch 1:  Loss:     0.2426; Validation Accuracy: 0.570000\n",
      "Epoch 50, CIFAR-10 Batch 1:  Loss:     0.2303; Validation Accuracy: 0.565200\n",
      "Epoch 51, CIFAR-10 Batch 1:  Loss:     0.2133; Validation Accuracy: 0.570000\n",
      "Epoch 52, CIFAR-10 Batch 1:  Loss:     0.1954; Validation Accuracy: 0.568600\n",
      "Epoch 53, CIFAR-10 Batch 1:  Loss:     0.1854; Validation Accuracy: 0.577600\n",
      "Epoch 54, CIFAR-10 Batch 1:  Loss:     0.1700; Validation Accuracy: 0.581800\n",
      "Epoch 55, CIFAR-10 Batch 1:  Loss:     0.1545; Validation Accuracy: 0.580400\n",
      "Epoch 56, CIFAR-10 Batch 1:  Loss:     0.1429; Validation Accuracy: 0.571400\n",
      "Epoch 57, CIFAR-10 Batch 1:  Loss:     0.1522; Validation Accuracy: 0.576200\n",
      "Epoch 58, CIFAR-10 Batch 1:  Loss:     0.1464; Validation Accuracy: 0.576200\n",
      "Epoch 59, CIFAR-10 Batch 1:  Loss:     0.1690; Validation Accuracy: 0.566800\n",
      "Epoch 60, CIFAR-10 Batch 1:  Loss:     0.1473; Validation Accuracy: 0.575000\n"
     ]
    }
   ],
   "source": [
    "\"\"\"\n",
    "DON'T MODIFY ANYTHING IN THIS CELL\n",
    "\"\"\"\n",
    "print('Checking the Training on a Single Batch...')\n",
    "with tf.Session() as sess:\n",
    "    # Initializing the variables\n",
    "    sess.run(tf.global_variables_initializer())\n",
    "    \n",
    "    # Training cycle\n",
    "    for epoch in range(epochs):\n",
    "        batch_i = 1\n",
    "        for batch_features, batch_labels in helper.load_preprocess_training_batch(batch_i, batch_size):\n",
    "            train_neural_network(sess, optimizer, keep_probability, batch_features, batch_labels)\n",
    "        print('Epoch {:>2}, CIFAR-10 Batch {}:  '.format(epoch + 1, batch_i), end='')\n",
    "        print_stats(sess, batch_features, batch_labels, cost, accuracy)"
   ]
  },
  {
   "cell_type": "markdown",
   "metadata": {},
   "source": [
    "### Fully Train the Model\n",
    "Now that you got a good accuracy with a single CIFAR-10 batch, try it with all five batches."
   ]
  },
  {
   "cell_type": "code",
   "execution_count": 17,
   "metadata": {},
   "outputs": [
    {
     "name": "stdout",
     "output_type": "stream",
     "text": [
      "Training...\n",
      "Epoch  1, CIFAR-10 Batch 1:  Loss:     2.2833; Validation Accuracy: 0.109600\n",
      "Epoch  1, CIFAR-10 Batch 2:  Loss:     2.2406; Validation Accuracy: 0.157800\n",
      "Epoch  1, CIFAR-10 Batch 3:  Loss:     2.1554; Validation Accuracy: 0.173800\n",
      "Epoch  1, CIFAR-10 Batch 4:  Loss:     2.0760; Validation Accuracy: 0.254200\n",
      "Epoch  1, CIFAR-10 Batch 5:  Loss:     1.9391; Validation Accuracy: 0.304600\n",
      "Epoch  2, CIFAR-10 Batch 1:  Loss:     2.0332; Validation Accuracy: 0.349800\n",
      "Epoch  2, CIFAR-10 Batch 2:  Loss:     1.8753; Validation Accuracy: 0.368400\n",
      "Epoch  2, CIFAR-10 Batch 3:  Loss:     1.5702; Validation Accuracy: 0.390800\n",
      "Epoch  2, CIFAR-10 Batch 4:  Loss:     1.6267; Validation Accuracy: 0.414000\n",
      "Epoch  2, CIFAR-10 Batch 5:  Loss:     1.6384; Validation Accuracy: 0.407800\n",
      "Epoch  3, CIFAR-10 Batch 1:  Loss:     1.8479; Validation Accuracy: 0.437800\n",
      "Epoch  3, CIFAR-10 Batch 2:  Loss:     1.6596; Validation Accuracy: 0.451600\n",
      "Epoch  3, CIFAR-10 Batch 3:  Loss:     1.3036; Validation Accuracy: 0.446800\n",
      "Epoch  3, CIFAR-10 Batch 4:  Loss:     1.4564; Validation Accuracy: 0.469000\n",
      "Epoch  3, CIFAR-10 Batch 5:  Loss:     1.5573; Validation Accuracy: 0.437000\n",
      "Epoch  4, CIFAR-10 Batch 1:  Loss:     1.6288; Validation Accuracy: 0.474400\n",
      "Epoch  4, CIFAR-10 Batch 2:  Loss:     1.4874; Validation Accuracy: 0.473400\n",
      "Epoch  4, CIFAR-10 Batch 3:  Loss:     1.1682; Validation Accuracy: 0.488200\n",
      "Epoch  4, CIFAR-10 Batch 4:  Loss:     1.3724; Validation Accuracy: 0.493400\n",
      "Epoch  4, CIFAR-10 Batch 5:  Loss:     1.4179; Validation Accuracy: 0.479800\n",
      "Epoch  5, CIFAR-10 Batch 1:  Loss:     1.4877; Validation Accuracy: 0.494400\n",
      "Epoch  5, CIFAR-10 Batch 2:  Loss:     1.3575; Validation Accuracy: 0.475600\n",
      "Epoch  5, CIFAR-10 Batch 3:  Loss:     1.0450; Validation Accuracy: 0.514600\n",
      "Epoch  5, CIFAR-10 Batch 4:  Loss:     1.2846; Validation Accuracy: 0.517000\n",
      "Epoch  5, CIFAR-10 Batch 5:  Loss:     1.3102; Validation Accuracy: 0.521200\n",
      "Epoch  6, CIFAR-10 Batch 1:  Loss:     1.3885; Validation Accuracy: 0.510000\n",
      "Epoch  6, CIFAR-10 Batch 2:  Loss:     1.2535; Validation Accuracy: 0.518400\n",
      "Epoch  6, CIFAR-10 Batch 3:  Loss:     0.9616; Validation Accuracy: 0.533600\n",
      "Epoch  6, CIFAR-10 Batch 4:  Loss:     1.2270; Validation Accuracy: 0.536200\n",
      "Epoch  6, CIFAR-10 Batch 5:  Loss:     1.2430; Validation Accuracy: 0.533200\n",
      "Epoch  7, CIFAR-10 Batch 1:  Loss:     1.2857; Validation Accuracy: 0.532800\n",
      "Epoch  7, CIFAR-10 Batch 2:  Loss:     1.1527; Validation Accuracy: 0.536200\n",
      "Epoch  7, CIFAR-10 Batch 3:  Loss:     0.9017; Validation Accuracy: 0.547000\n",
      "Epoch  7, CIFAR-10 Batch 4:  Loss:     1.1550; Validation Accuracy: 0.555400\n",
      "Epoch  7, CIFAR-10 Batch 5:  Loss:     1.1557; Validation Accuracy: 0.548800\n",
      "Epoch  8, CIFAR-10 Batch 1:  Loss:     1.2072; Validation Accuracy: 0.550600\n",
      "Epoch  8, CIFAR-10 Batch 2:  Loss:     1.0722; Validation Accuracy: 0.551800\n",
      "Epoch  8, CIFAR-10 Batch 3:  Loss:     0.8543; Validation Accuracy: 0.564200\n",
      "Epoch  8, CIFAR-10 Batch 4:  Loss:     1.0812; Validation Accuracy: 0.564000\n",
      "Epoch  8, CIFAR-10 Batch 5:  Loss:     1.0816; Validation Accuracy: 0.564200\n",
      "Epoch  9, CIFAR-10 Batch 1:  Loss:     1.1242; Validation Accuracy: 0.569000\n",
      "Epoch  9, CIFAR-10 Batch 2:  Loss:     0.9939; Validation Accuracy: 0.569800\n",
      "Epoch  9, CIFAR-10 Batch 3:  Loss:     0.8082; Validation Accuracy: 0.574600\n",
      "Epoch  9, CIFAR-10 Batch 4:  Loss:     1.0195; Validation Accuracy: 0.582600\n",
      "Epoch  9, CIFAR-10 Batch 5:  Loss:     0.9929; Validation Accuracy: 0.582200\n",
      "Epoch 10, CIFAR-10 Batch 1:  Loss:     1.0528; Validation Accuracy: 0.572000\n",
      "Epoch 10, CIFAR-10 Batch 2:  Loss:     0.9263; Validation Accuracy: 0.579600\n",
      "Epoch 10, CIFAR-10 Batch 3:  Loss:     0.7449; Validation Accuracy: 0.588800\n",
      "Epoch 10, CIFAR-10 Batch 4:  Loss:     0.9153; Validation Accuracy: 0.592800\n",
      "Epoch 10, CIFAR-10 Batch 5:  Loss:     0.9051; Validation Accuracy: 0.594800\n",
      "Epoch 11, CIFAR-10 Batch 1:  Loss:     1.0000; Validation Accuracy: 0.584000\n",
      "Epoch 11, CIFAR-10 Batch 2:  Loss:     0.8799; Validation Accuracy: 0.584600\n",
      "Epoch 11, CIFAR-10 Batch 3:  Loss:     0.6952; Validation Accuracy: 0.595400\n",
      "Epoch 11, CIFAR-10 Batch 4:  Loss:     0.8573; Validation Accuracy: 0.600200\n",
      "Epoch 11, CIFAR-10 Batch 5:  Loss:     0.8339; Validation Accuracy: 0.604800\n",
      "Epoch 12, CIFAR-10 Batch 1:  Loss:     0.9358; Validation Accuracy: 0.598800\n",
      "Epoch 12, CIFAR-10 Batch 2:  Loss:     0.8405; Validation Accuracy: 0.607400\n",
      "Epoch 12, CIFAR-10 Batch 3:  Loss:     0.6462; Validation Accuracy: 0.607000\n",
      "Epoch 12, CIFAR-10 Batch 4:  Loss:     0.7724; Validation Accuracy: 0.605600\n",
      "Epoch 12, CIFAR-10 Batch 5:  Loss:     0.7679; Validation Accuracy: 0.612000\n",
      "Epoch 13, CIFAR-10 Batch 1:  Loss:     0.8876; Validation Accuracy: 0.606400\n",
      "Epoch 13, CIFAR-10 Batch 2:  Loss:     0.7720; Validation Accuracy: 0.606200\n",
      "Epoch 13, CIFAR-10 Batch 3:  Loss:     0.5823; Validation Accuracy: 0.612800\n",
      "Epoch 13, CIFAR-10 Batch 4:  Loss:     0.7007; Validation Accuracy: 0.615000\n",
      "Epoch 13, CIFAR-10 Batch 5:  Loss:     0.6937; Validation Accuracy: 0.627600\n",
      "Epoch 14, CIFAR-10 Batch 1:  Loss:     0.7949; Validation Accuracy: 0.612800\n",
      "Epoch 14, CIFAR-10 Batch 2:  Loss:     0.7452; Validation Accuracy: 0.619600\n",
      "Epoch 14, CIFAR-10 Batch 3:  Loss:     0.5685; Validation Accuracy: 0.623200\n",
      "Epoch 14, CIFAR-10 Batch 4:  Loss:     0.6574; Validation Accuracy: 0.623600\n",
      "Epoch 14, CIFAR-10 Batch 5:  Loss:     0.6229; Validation Accuracy: 0.633400\n",
      "Epoch 15, CIFAR-10 Batch 1:  Loss:     0.7587; Validation Accuracy: 0.618400\n",
      "Epoch 15, CIFAR-10 Batch 2:  Loss:     0.6856; Validation Accuracy: 0.621800\n",
      "Epoch 15, CIFAR-10 Batch 3:  Loss:     0.5145; Validation Accuracy: 0.631200\n",
      "Epoch 15, CIFAR-10 Batch 4:  Loss:     0.6039; Validation Accuracy: 0.631000\n",
      "Epoch 15, CIFAR-10 Batch 5:  Loss:     0.5620; Validation Accuracy: 0.640400\n",
      "Epoch 16, CIFAR-10 Batch 1:  Loss:     0.7180; Validation Accuracy: 0.630800\n",
      "Epoch 16, CIFAR-10 Batch 2:  Loss:     0.6556; Validation Accuracy: 0.619200\n",
      "Epoch 16, CIFAR-10 Batch 3:  Loss:     0.4829; Validation Accuracy: 0.635000\n",
      "Epoch 16, CIFAR-10 Batch 4:  Loss:     0.5748; Validation Accuracy: 0.632000\n",
      "Epoch 16, CIFAR-10 Batch 5:  Loss:     0.5077; Validation Accuracy: 0.640400\n",
      "Epoch 17, CIFAR-10 Batch 1:  Loss:     0.6629; Validation Accuracy: 0.630200\n",
      "Epoch 17, CIFAR-10 Batch 2:  Loss:     0.6088; Validation Accuracy: 0.640400\n",
      "Epoch 17, CIFAR-10 Batch 3:  Loss:     0.4526; Validation Accuracy: 0.637000\n",
      "Epoch 17, CIFAR-10 Batch 4:  Loss:     0.5338; Validation Accuracy: 0.641200\n",
      "Epoch 17, CIFAR-10 Batch 5:  Loss:     0.4666; Validation Accuracy: 0.645600\n",
      "Epoch 18, CIFAR-10 Batch 1:  Loss:     0.6195; Validation Accuracy: 0.634600\n",
      "Epoch 18, CIFAR-10 Batch 2:  Loss:     0.5543; Validation Accuracy: 0.637000\n",
      "Epoch 18, CIFAR-10 Batch 3:  Loss:     0.4051; Validation Accuracy: 0.644200\n",
      "Epoch 18, CIFAR-10 Batch 4:  Loss:     0.4936; Validation Accuracy: 0.640400\n",
      "Epoch 18, CIFAR-10 Batch 5:  Loss:     0.4266; Validation Accuracy: 0.645200\n",
      "Epoch 19, CIFAR-10 Batch 1:  Loss:     0.5782; Validation Accuracy: 0.637600\n",
      "Epoch 19, CIFAR-10 Batch 2:  Loss:     0.4934; Validation Accuracy: 0.641800\n",
      "Epoch 19, CIFAR-10 Batch 3:  Loss:     0.3692; Validation Accuracy: 0.648600\n",
      "Epoch 19, CIFAR-10 Batch 4:  Loss:     0.4659; Validation Accuracy: 0.651200\n",
      "Epoch 19, CIFAR-10 Batch 5:  Loss:     0.3734; Validation Accuracy: 0.658000\n",
      "Epoch 20, CIFAR-10 Batch 1:  Loss:     0.5321; Validation Accuracy: 0.633200\n",
      "Epoch 20, CIFAR-10 Batch 2:  Loss:     0.4660; Validation Accuracy: 0.650600\n",
      "Epoch 20, CIFAR-10 Batch 3:  Loss:     0.3328; Validation Accuracy: 0.651400\n",
      "Epoch 20, CIFAR-10 Batch 4:  Loss:     0.4027; Validation Accuracy: 0.642800\n",
      "Epoch 20, CIFAR-10 Batch 5:  Loss:     0.3403; Validation Accuracy: 0.654400\n",
      "Epoch 21, CIFAR-10 Batch 1:  Loss:     0.4874; Validation Accuracy: 0.637200\n",
      "Epoch 21, CIFAR-10 Batch 2:  Loss:     0.4381; Validation Accuracy: 0.653000\n",
      "Epoch 21, CIFAR-10 Batch 3:  Loss:     0.3172; Validation Accuracy: 0.659000\n",
      "Epoch 21, CIFAR-10 Batch 4:  Loss:     0.3723; Validation Accuracy: 0.648600\n",
      "Epoch 21, CIFAR-10 Batch 5:  Loss:     0.3068; Validation Accuracy: 0.657600\n",
      "Epoch 22, CIFAR-10 Batch 1:  Loss:     0.4503; Validation Accuracy: 0.638600\n",
      "Epoch 22, CIFAR-10 Batch 2:  Loss:     0.4099; Validation Accuracy: 0.649600\n"
     ]
    },
    {
     "name": "stdout",
     "output_type": "stream",
     "text": [
      "Epoch 22, CIFAR-10 Batch 3:  Loss:     0.2889; Validation Accuracy: 0.660600\n",
      "Epoch 22, CIFAR-10 Batch 4:  Loss:     0.3707; Validation Accuracy: 0.645200\n",
      "Epoch 22, CIFAR-10 Batch 5:  Loss:     0.2939; Validation Accuracy: 0.648800\n",
      "Epoch 23, CIFAR-10 Batch 1:  Loss:     0.4191; Validation Accuracy: 0.630600\n",
      "Epoch 23, CIFAR-10 Batch 2:  Loss:     0.4235; Validation Accuracy: 0.656400\n",
      "Epoch 23, CIFAR-10 Batch 3:  Loss:     0.2697; Validation Accuracy: 0.662000\n",
      "Epoch 23, CIFAR-10 Batch 4:  Loss:     0.3446; Validation Accuracy: 0.645000\n",
      "Epoch 23, CIFAR-10 Batch 5:  Loss:     0.2816; Validation Accuracy: 0.657200\n",
      "Epoch 24, CIFAR-10 Batch 1:  Loss:     0.3937; Validation Accuracy: 0.637600\n",
      "Epoch 24, CIFAR-10 Batch 2:  Loss:     0.4042; Validation Accuracy: 0.654400\n",
      "Epoch 24, CIFAR-10 Batch 3:  Loss:     0.2481; Validation Accuracy: 0.658600\n",
      "Epoch 24, CIFAR-10 Batch 4:  Loss:     0.3086; Validation Accuracy: 0.652400\n",
      "Epoch 24, CIFAR-10 Batch 5:  Loss:     0.2520; Validation Accuracy: 0.655400\n",
      "Epoch 25, CIFAR-10 Batch 1:  Loss:     0.3281; Validation Accuracy: 0.647800\n",
      "Epoch 25, CIFAR-10 Batch 2:  Loss:     0.3789; Validation Accuracy: 0.651400\n",
      "Epoch 25, CIFAR-10 Batch 3:  Loss:     0.2317; Validation Accuracy: 0.656000\n",
      "Epoch 25, CIFAR-10 Batch 4:  Loss:     0.2829; Validation Accuracy: 0.656800\n",
      "Epoch 25, CIFAR-10 Batch 5:  Loss:     0.2231; Validation Accuracy: 0.659200\n",
      "Epoch 26, CIFAR-10 Batch 1:  Loss:     0.3129; Validation Accuracy: 0.650200\n",
      "Epoch 26, CIFAR-10 Batch 2:  Loss:     0.3593; Validation Accuracy: 0.650400\n",
      "Epoch 26, CIFAR-10 Batch 3:  Loss:     0.2375; Validation Accuracy: 0.649000\n",
      "Epoch 26, CIFAR-10 Batch 4:  Loss:     0.2639; Validation Accuracy: 0.653000\n",
      "Epoch 26, CIFAR-10 Batch 5:  Loss:     0.2101; Validation Accuracy: 0.663800\n",
      "Epoch 27, CIFAR-10 Batch 1:  Loss:     0.3171; Validation Accuracy: 0.658000\n",
      "Epoch 27, CIFAR-10 Batch 2:  Loss:     0.3260; Validation Accuracy: 0.667200\n",
      "Epoch 27, CIFAR-10 Batch 3:  Loss:     0.2100; Validation Accuracy: 0.650600\n",
      "Epoch 27, CIFAR-10 Batch 4:  Loss:     0.2494; Validation Accuracy: 0.655800\n",
      "Epoch 27, CIFAR-10 Batch 5:  Loss:     0.1873; Validation Accuracy: 0.661600\n",
      "Epoch 28, CIFAR-10 Batch 1:  Loss:     0.2972; Validation Accuracy: 0.659000\n",
      "Epoch 28, CIFAR-10 Batch 2:  Loss:     0.3020; Validation Accuracy: 0.668600\n",
      "Epoch 28, CIFAR-10 Batch 3:  Loss:     0.1972; Validation Accuracy: 0.658800\n",
      "Epoch 28, CIFAR-10 Batch 4:  Loss:     0.2264; Validation Accuracy: 0.654800\n",
      "Epoch 28, CIFAR-10 Batch 5:  Loss:     0.1813; Validation Accuracy: 0.661000\n",
      "Epoch 29, CIFAR-10 Batch 1:  Loss:     0.2513; Validation Accuracy: 0.656600\n",
      "Epoch 29, CIFAR-10 Batch 2:  Loss:     0.2804; Validation Accuracy: 0.668200\n",
      "Epoch 29, CIFAR-10 Batch 3:  Loss:     0.1933; Validation Accuracy: 0.658000\n",
      "Epoch 29, CIFAR-10 Batch 4:  Loss:     0.2348; Validation Accuracy: 0.650600\n",
      "Epoch 29, CIFAR-10 Batch 5:  Loss:     0.1650; Validation Accuracy: 0.665600\n",
      "Epoch 30, CIFAR-10 Batch 1:  Loss:     0.2433; Validation Accuracy: 0.660200\n",
      "Epoch 30, CIFAR-10 Batch 2:  Loss:     0.2640; Validation Accuracy: 0.667400\n",
      "Epoch 30, CIFAR-10 Batch 3:  Loss:     0.1701; Validation Accuracy: 0.663200\n",
      "Epoch 30, CIFAR-10 Batch 4:  Loss:     0.2022; Validation Accuracy: 0.651600\n",
      "Epoch 30, CIFAR-10 Batch 5:  Loss:     0.1550; Validation Accuracy: 0.664200\n",
      "Epoch 31, CIFAR-10 Batch 1:  Loss:     0.2213; Validation Accuracy: 0.658600\n",
      "Epoch 31, CIFAR-10 Batch 2:  Loss:     0.2555; Validation Accuracy: 0.669800\n",
      "Epoch 31, CIFAR-10 Batch 3:  Loss:     0.1619; Validation Accuracy: 0.658400\n",
      "Epoch 31, CIFAR-10 Batch 4:  Loss:     0.1900; Validation Accuracy: 0.656400\n",
      "Epoch 31, CIFAR-10 Batch 5:  Loss:     0.1506; Validation Accuracy: 0.655400\n",
      "Epoch 32, CIFAR-10 Batch 1:  Loss:     0.2180; Validation Accuracy: 0.659000\n",
      "Epoch 32, CIFAR-10 Batch 2:  Loss:     0.2415; Validation Accuracy: 0.666200\n",
      "Epoch 32, CIFAR-10 Batch 3:  Loss:     0.1522; Validation Accuracy: 0.663800\n",
      "Epoch 32, CIFAR-10 Batch 4:  Loss:     0.1742; Validation Accuracy: 0.656800\n",
      "Epoch 32, CIFAR-10 Batch 5:  Loss:     0.1377; Validation Accuracy: 0.660400\n",
      "Epoch 33, CIFAR-10 Batch 1:  Loss:     0.1882; Validation Accuracy: 0.658000\n",
      "Epoch 33, CIFAR-10 Batch 2:  Loss:     0.2444; Validation Accuracy: 0.662400\n",
      "Epoch 33, CIFAR-10 Batch 3:  Loss:     0.1454; Validation Accuracy: 0.664600\n",
      "Epoch 33, CIFAR-10 Batch 4:  Loss:     0.1780; Validation Accuracy: 0.652200\n",
      "Epoch 33, CIFAR-10 Batch 5:  Loss:     0.1357; Validation Accuracy: 0.658000\n",
      "Epoch 34, CIFAR-10 Batch 1:  Loss:     0.1742; Validation Accuracy: 0.660000\n",
      "Epoch 34, CIFAR-10 Batch 2:  Loss:     0.2233; Validation Accuracy: 0.657600\n",
      "Epoch 34, CIFAR-10 Batch 3:  Loss:     0.1357; Validation Accuracy: 0.662800\n",
      "Epoch 34, CIFAR-10 Batch 4:  Loss:     0.1506; Validation Accuracy: 0.655400\n",
      "Epoch 34, CIFAR-10 Batch 5:  Loss:     0.1147; Validation Accuracy: 0.664200\n",
      "Epoch 35, CIFAR-10 Batch 1:  Loss:     0.1892; Validation Accuracy: 0.655000\n",
      "Epoch 35, CIFAR-10 Batch 2:  Loss:     0.1985; Validation Accuracy: 0.664000\n",
      "Epoch 35, CIFAR-10 Batch 3:  Loss:     0.1210; Validation Accuracy: 0.662800\n",
      "Epoch 35, CIFAR-10 Batch 4:  Loss:     0.1522; Validation Accuracy: 0.651600\n",
      "Epoch 35, CIFAR-10 Batch 5:  Loss:     0.1268; Validation Accuracy: 0.658800\n",
      "Epoch 36, CIFAR-10 Batch 1:  Loss:     0.1780; Validation Accuracy: 0.649800\n",
      "Epoch 36, CIFAR-10 Batch 2:  Loss:     0.2013; Validation Accuracy: 0.666000\n",
      "Epoch 36, CIFAR-10 Batch 3:  Loss:     0.1177; Validation Accuracy: 0.659800\n",
      "Epoch 36, CIFAR-10 Batch 4:  Loss:     0.1474; Validation Accuracy: 0.653600\n",
      "Epoch 36, CIFAR-10 Batch 5:  Loss:     0.1228; Validation Accuracy: 0.657600\n",
      "Epoch 37, CIFAR-10 Batch 1:  Loss:     0.1592; Validation Accuracy: 0.653200\n",
      "Epoch 37, CIFAR-10 Batch 2:  Loss:     0.1986; Validation Accuracy: 0.659800\n",
      "Epoch 37, CIFAR-10 Batch 3:  Loss:     0.1165; Validation Accuracy: 0.656600\n",
      "Epoch 37, CIFAR-10 Batch 4:  Loss:     0.1348; Validation Accuracy: 0.659200\n",
      "Epoch 37, CIFAR-10 Batch 5:  Loss:     0.1257; Validation Accuracy: 0.655800\n",
      "Epoch 38, CIFAR-10 Batch 1:  Loss:     0.1447; Validation Accuracy: 0.660200\n",
      "Epoch 38, CIFAR-10 Batch 2:  Loss:     0.1925; Validation Accuracy: 0.644800\n",
      "Epoch 38, CIFAR-10 Batch 3:  Loss:     0.1214; Validation Accuracy: 0.644800\n",
      "Epoch 38, CIFAR-10 Batch 4:  Loss:     0.1408; Validation Accuracy: 0.661600\n",
      "Epoch 38, CIFAR-10 Batch 5:  Loss:     0.1160; Validation Accuracy: 0.651200\n",
      "Epoch 39, CIFAR-10 Batch 1:  Loss:     0.1516; Validation Accuracy: 0.655200\n",
      "Epoch 39, CIFAR-10 Batch 2:  Loss:     0.1851; Validation Accuracy: 0.649400\n",
      "Epoch 39, CIFAR-10 Batch 3:  Loss:     0.1191; Validation Accuracy: 0.645200\n",
      "Epoch 39, CIFAR-10 Batch 4:  Loss:     0.1394; Validation Accuracy: 0.665800\n",
      "Epoch 39, CIFAR-10 Batch 5:  Loss:     0.1148; Validation Accuracy: 0.653800\n",
      "Epoch 40, CIFAR-10 Batch 1:  Loss:     0.1241; Validation Accuracy: 0.655400\n",
      "Epoch 40, CIFAR-10 Batch 2:  Loss:     0.1586; Validation Accuracy: 0.654000\n",
      "Epoch 40, CIFAR-10 Batch 3:  Loss:     0.0980; Validation Accuracy: 0.654200\n",
      "Epoch 40, CIFAR-10 Batch 4:  Loss:     0.1316; Validation Accuracy: 0.667800\n",
      "Epoch 40, CIFAR-10 Batch 5:  Loss:     0.1032; Validation Accuracy: 0.662600\n",
      "Epoch 41, CIFAR-10 Batch 1:  Loss:     0.1232; Validation Accuracy: 0.649600\n",
      "Epoch 41, CIFAR-10 Batch 2:  Loss:     0.1445; Validation Accuracy: 0.662800\n",
      "Epoch 41, CIFAR-10 Batch 3:  Loss:     0.0820; Validation Accuracy: 0.656400\n",
      "Epoch 41, CIFAR-10 Batch 4:  Loss:     0.1205; Validation Accuracy: 0.671600\n",
      "Epoch 41, CIFAR-10 Batch 5:  Loss:     0.0936; Validation Accuracy: 0.656000\n",
      "Epoch 42, CIFAR-10 Batch 1:  Loss:     0.1217; Validation Accuracy: 0.652000\n",
      "Epoch 42, CIFAR-10 Batch 2:  Loss:     0.1306; Validation Accuracy: 0.660000\n",
      "Epoch 42, CIFAR-10 Batch 3:  Loss:     0.0858; Validation Accuracy: 0.647400\n",
      "Epoch 42, CIFAR-10 Batch 4:  Loss:     0.1159; Validation Accuracy: 0.672600\n",
      "Epoch 42, CIFAR-10 Batch 5:  Loss:     0.0896; Validation Accuracy: 0.661200\n",
      "Epoch 43, CIFAR-10 Batch 1:  Loss:     0.1094; Validation Accuracy: 0.648200\n",
      "Epoch 43, CIFAR-10 Batch 2:  Loss:     0.1370; Validation Accuracy: 0.658800\n",
      "Epoch 43, CIFAR-10 Batch 3:  Loss:     0.0807; Validation Accuracy: 0.646600\n",
      "Epoch 43, CIFAR-10 Batch 4:  Loss:     0.1143; Validation Accuracy: 0.670200\n"
     ]
    },
    {
     "name": "stdout",
     "output_type": "stream",
     "text": [
      "Epoch 43, CIFAR-10 Batch 5:  Loss:     0.0964; Validation Accuracy: 0.658200\n",
      "Epoch 44, CIFAR-10 Batch 1:  Loss:     0.1017; Validation Accuracy: 0.653000\n",
      "Epoch 44, CIFAR-10 Batch 2:  Loss:     0.1287; Validation Accuracy: 0.652200\n",
      "Epoch 44, CIFAR-10 Batch 3:  Loss:     0.0790; Validation Accuracy: 0.644200\n",
      "Epoch 44, CIFAR-10 Batch 4:  Loss:     0.1120; Validation Accuracy: 0.668800\n",
      "Epoch 44, CIFAR-10 Batch 5:  Loss:     0.0946; Validation Accuracy: 0.662600\n",
      "Epoch 45, CIFAR-10 Batch 1:  Loss:     0.1297; Validation Accuracy: 0.644000\n",
      "Epoch 45, CIFAR-10 Batch 2:  Loss:     0.1181; Validation Accuracy: 0.656200\n",
      "Epoch 45, CIFAR-10 Batch 3:  Loss:     0.0702; Validation Accuracy: 0.650200\n",
      "Epoch 45, CIFAR-10 Batch 4:  Loss:     0.1037; Validation Accuracy: 0.666400\n",
      "Epoch 45, CIFAR-10 Batch 5:  Loss:     0.0803; Validation Accuracy: 0.655200\n",
      "Epoch 46, CIFAR-10 Batch 1:  Loss:     0.0951; Validation Accuracy: 0.649000\n",
      "Epoch 46, CIFAR-10 Batch 2:  Loss:     0.1231; Validation Accuracy: 0.644400\n",
      "Epoch 46, CIFAR-10 Batch 3:  Loss:     0.0756; Validation Accuracy: 0.649200\n",
      "Epoch 46, CIFAR-10 Batch 4:  Loss:     0.1014; Validation Accuracy: 0.664600\n",
      "Epoch 46, CIFAR-10 Batch 5:  Loss:     0.0816; Validation Accuracy: 0.664200\n",
      "Epoch 47, CIFAR-10 Batch 1:  Loss:     0.0975; Validation Accuracy: 0.644600\n",
      "Epoch 47, CIFAR-10 Batch 2:  Loss:     0.1320; Validation Accuracy: 0.643400\n",
      "Epoch 47, CIFAR-10 Batch 3:  Loss:     0.0827; Validation Accuracy: 0.645200\n",
      "Epoch 47, CIFAR-10 Batch 4:  Loss:     0.1102; Validation Accuracy: 0.663600\n",
      "Epoch 47, CIFAR-10 Batch 5:  Loss:     0.0968; Validation Accuracy: 0.650600\n",
      "Epoch 48, CIFAR-10 Batch 1:  Loss:     0.0916; Validation Accuracy: 0.648800\n",
      "Epoch 48, CIFAR-10 Batch 2:  Loss:     0.1464; Validation Accuracy: 0.631000\n",
      "Epoch 48, CIFAR-10 Batch 3:  Loss:     0.0795; Validation Accuracy: 0.644600\n",
      "Epoch 48, CIFAR-10 Batch 4:  Loss:     0.0917; Validation Accuracy: 0.669400\n",
      "Epoch 48, CIFAR-10 Batch 5:  Loss:     0.0877; Validation Accuracy: 0.658800\n",
      "Epoch 49, CIFAR-10 Batch 1:  Loss:     0.0796; Validation Accuracy: 0.629800\n",
      "Epoch 49, CIFAR-10 Batch 2:  Loss:     0.1305; Validation Accuracy: 0.625400\n",
      "Epoch 49, CIFAR-10 Batch 3:  Loss:     0.0757; Validation Accuracy: 0.643800\n",
      "Epoch 49, CIFAR-10 Batch 4:  Loss:     0.0942; Validation Accuracy: 0.657000\n",
      "Epoch 49, CIFAR-10 Batch 5:  Loss:     0.0783; Validation Accuracy: 0.662400\n",
      "Epoch 50, CIFAR-10 Batch 1:  Loss:     0.0935; Validation Accuracy: 0.624600\n",
      "Epoch 50, CIFAR-10 Batch 2:  Loss:     0.1404; Validation Accuracy: 0.628800\n",
      "Epoch 50, CIFAR-10 Batch 3:  Loss:     0.0760; Validation Accuracy: 0.644600\n",
      "Epoch 50, CIFAR-10 Batch 4:  Loss:     0.0814; Validation Accuracy: 0.657200\n",
      "Epoch 50, CIFAR-10 Batch 5:  Loss:     0.0707; Validation Accuracy: 0.659800\n",
      "Epoch 51, CIFAR-10 Batch 1:  Loss:     0.0923; Validation Accuracy: 0.604000\n",
      "Epoch 51, CIFAR-10 Batch 2:  Loss:     0.1428; Validation Accuracy: 0.633400\n",
      "Epoch 51, CIFAR-10 Batch 3:  Loss:     0.0815; Validation Accuracy: 0.640000\n",
      "Epoch 51, CIFAR-10 Batch 4:  Loss:     0.0852; Validation Accuracy: 0.662200\n",
      "Epoch 51, CIFAR-10 Batch 5:  Loss:     0.0675; Validation Accuracy: 0.654600\n",
      "Epoch 52, CIFAR-10 Batch 1:  Loss:     0.0824; Validation Accuracy: 0.626000\n",
      "Epoch 52, CIFAR-10 Batch 2:  Loss:     0.1236; Validation Accuracy: 0.640600\n",
      "Epoch 52, CIFAR-10 Batch 3:  Loss:     0.0999; Validation Accuracy: 0.641200\n",
      "Epoch 52, CIFAR-10 Batch 4:  Loss:     0.0943; Validation Accuracy: 0.646200\n",
      "Epoch 52, CIFAR-10 Batch 5:  Loss:     0.0582; Validation Accuracy: 0.649000\n",
      "Epoch 53, CIFAR-10 Batch 1:  Loss:     0.0877; Validation Accuracy: 0.624800\n",
      "Epoch 53, CIFAR-10 Batch 2:  Loss:     0.1349; Validation Accuracy: 0.638200\n",
      "Epoch 53, CIFAR-10 Batch 3:  Loss:     0.0784; Validation Accuracy: 0.635800\n",
      "Epoch 53, CIFAR-10 Batch 4:  Loss:     0.0857; Validation Accuracy: 0.643200\n",
      "Epoch 53, CIFAR-10 Batch 5:  Loss:     0.0843; Validation Accuracy: 0.629000\n",
      "Epoch 54, CIFAR-10 Batch 1:  Loss:     0.0920; Validation Accuracy: 0.638600\n",
      "Epoch 54, CIFAR-10 Batch 2:  Loss:     0.1219; Validation Accuracy: 0.638200\n",
      "Epoch 54, CIFAR-10 Batch 3:  Loss:     0.0675; Validation Accuracy: 0.648200\n",
      "Epoch 54, CIFAR-10 Batch 4:  Loss:     0.0758; Validation Accuracy: 0.653200\n",
      "Epoch 54, CIFAR-10 Batch 5:  Loss:     0.0796; Validation Accuracy: 0.634600\n",
      "Epoch 55, CIFAR-10 Batch 1:  Loss:     0.0805; Validation Accuracy: 0.649200\n",
      "Epoch 55, CIFAR-10 Batch 2:  Loss:     0.1262; Validation Accuracy: 0.624400\n",
      "Epoch 55, CIFAR-10 Batch 3:  Loss:     0.0709; Validation Accuracy: 0.657400\n",
      "Epoch 55, CIFAR-10 Batch 4:  Loss:     0.0611; Validation Accuracy: 0.655800\n",
      "Epoch 55, CIFAR-10 Batch 5:  Loss:     0.0757; Validation Accuracy: 0.627600\n",
      "Epoch 56, CIFAR-10 Batch 1:  Loss:     0.0947; Validation Accuracy: 0.646400\n",
      "Epoch 56, CIFAR-10 Batch 2:  Loss:     0.1120; Validation Accuracy: 0.640400\n",
      "Epoch 56, CIFAR-10 Batch 3:  Loss:     0.0626; Validation Accuracy: 0.659000\n",
      "Epoch 56, CIFAR-10 Batch 4:  Loss:     0.0525; Validation Accuracy: 0.652600\n",
      "Epoch 56, CIFAR-10 Batch 5:  Loss:     0.0560; Validation Accuracy: 0.625800\n",
      "Epoch 57, CIFAR-10 Batch 1:  Loss:     0.1018; Validation Accuracy: 0.640400\n",
      "Epoch 57, CIFAR-10 Batch 2:  Loss:     0.1275; Validation Accuracy: 0.643800\n",
      "Epoch 57, CIFAR-10 Batch 3:  Loss:     0.0453; Validation Accuracy: 0.653600\n",
      "Epoch 57, CIFAR-10 Batch 4:  Loss:     0.0536; Validation Accuracy: 0.657800\n",
      "Epoch 57, CIFAR-10 Batch 5:  Loss:     0.0472; Validation Accuracy: 0.640800\n",
      "Epoch 58, CIFAR-10 Batch 1:  Loss:     0.0817; Validation Accuracy: 0.637000\n",
      "Epoch 58, CIFAR-10 Batch 2:  Loss:     0.1018; Validation Accuracy: 0.646400\n",
      "Epoch 58, CIFAR-10 Batch 3:  Loss:     0.0401; Validation Accuracy: 0.658200\n",
      "Epoch 58, CIFAR-10 Batch 4:  Loss:     0.0499; Validation Accuracy: 0.657400\n",
      "Epoch 58, CIFAR-10 Batch 5:  Loss:     0.0474; Validation Accuracy: 0.636000\n",
      "Epoch 59, CIFAR-10 Batch 1:  Loss:     0.0788; Validation Accuracy: 0.642400\n",
      "Epoch 59, CIFAR-10 Batch 2:  Loss:     0.0988; Validation Accuracy: 0.636200\n",
      "Epoch 59, CIFAR-10 Batch 3:  Loss:     0.0271; Validation Accuracy: 0.661000\n",
      "Epoch 59, CIFAR-10 Batch 4:  Loss:     0.0404; Validation Accuracy: 0.654600\n",
      "Epoch 59, CIFAR-10 Batch 5:  Loss:     0.0510; Validation Accuracy: 0.622800\n",
      "Epoch 60, CIFAR-10 Batch 1:  Loss:     0.0732; Validation Accuracy: 0.635400\n",
      "Epoch 60, CIFAR-10 Batch 2:  Loss:     0.1056; Validation Accuracy: 0.642000\n",
      "Epoch 60, CIFAR-10 Batch 3:  Loss:     0.0330; Validation Accuracy: 0.659800\n",
      "Epoch 60, CIFAR-10 Batch 4:  Loss:     0.0459; Validation Accuracy: 0.662000\n",
      "Epoch 60, CIFAR-10 Batch 5:  Loss:     0.0358; Validation Accuracy: 0.643200\n"
     ]
    }
   ],
   "source": [
    "\"\"\"\n",
    "DON'T MODIFY ANYTHING IN THIS CELL\n",
    "\"\"\"\n",
    "save_model_path = './image_classification'\n",
    "\n",
    "print('Training...')\n",
    "with tf.Session() as sess:\n",
    "    # Initializing the variables\n",
    "    sess.run(tf.global_variables_initializer())\n",
    "    \n",
    "    # Training cycle\n",
    "    for epoch in range(epochs):\n",
    "        # Loop over all batches\n",
    "        n_batches = 5\n",
    "        for batch_i in range(1, n_batches + 1):\n",
    "            for batch_features, batch_labels in helper.load_preprocess_training_batch(batch_i, batch_size):\n",
    "                train_neural_network(sess, optimizer, keep_probability, batch_features, batch_labels)\n",
    "            print('Epoch {:>2}, CIFAR-10 Batch {}:  '.format(epoch + 1, batch_i), end='')\n",
    "            print_stats(sess, batch_features, batch_labels, cost, accuracy)\n",
    "            \n",
    "    # Save Model\n",
    "    saver = tf.train.Saver()\n",
    "    save_path = saver.save(sess, save_model_path)"
   ]
  },
  {
   "cell_type": "markdown",
   "metadata": {},
   "source": [
    "# Checkpoint\n",
    "The model has been saved to disk.\n",
    "## Test Model\n",
    "Test your model against the test dataset.  This will be your final accuracy. You should have an accuracy greater than 50%. If you don't, keep tweaking the model architecture and parameters."
   ]
  },
  {
   "cell_type": "code",
   "execution_count": 18,
   "metadata": {},
   "outputs": [
    {
     "name": "stdout",
     "output_type": "stream",
     "text": [
      "INFO:tensorflow:Restoring parameters from ./image_classification\n",
      "Testing Accuracy: 0.65341796875\n",
      "\n"
     ]
    },
    {
     "data": {
      "image/png": "[encoded data removed]",
      "text/plain": [
       "<matplotlib.figure.Figure at 0x7fe723546fd0>"
      ]
     },
     "metadata": {
      "image/png": {
       "height": 319,
       "width": 355
      }
     },
     "output_type": "display_data"
    }
   ],
   "source": [
    "\"\"\"\n",
    "DON'T MODIFY ANYTHING IN THIS CELL\n",
    "\"\"\"\n",
    "%matplotlib inline\n",
    "%config InlineBackend.figure_format = 'retina'\n",
    "\n",
    "import tensorflow as tf\n",
    "import pickle\n",
    "import helper\n",
    "import random\n",
    "\n",
    "# Set batch size if not already set\n",
    "try:\n",
    "    if batch_size:\n",
    "        pass\n",
    "except NameError:\n",
    "    batch_size = 64\n",
    "\n",
    "save_model_path = './image_classification'\n",
    "n_samples = 4\n",
    "top_n_predictions = 3\n",
    "\n",
    "def test_model():\n",
    "    \"\"\"\n",
    "    Test the saved model against the test dataset\n",
    "    \"\"\"\n",
    "\n",
    "    test_features, test_labels = pickle.load(open('preprocess_test.p', mode='rb'))\n",
    "    loaded_graph = tf.Graph()\n",
    "\n",
    "    with tf.Session(graph=loaded_graph) as sess:\n",
    "        # Load model\n",
    "        loader = tf.train.import_meta_graph(save_model_path + '.meta')\n",
    "        loader.restore(sess, save_model_path)\n",
    "\n",
    "        # Get Tensors from loaded model\n",
    "        loaded_x = loaded_graph.get_tensor_by_name('x:0')\n",
    "        loaded_y = loaded_graph.get_tensor_by_name('y:0')\n",
    "        loaded_keep_prob = loaded_graph.get_tensor_by_name('keep_prob:0')\n",
    "        loaded_logits = loaded_graph.get_tensor_by_name('logits:0')\n",
    "        loaded_acc = loaded_graph.get_tensor_by_name('accuracy:0')\n",
    "        \n",
    "        # Get accuracy in batches for memory limitations\n",
    "        test_batch_acc_total = 0\n",
    "        test_batch_count = 0\n",
    "        \n",
    "        for test_feature_batch, test_label_batch in helper.batch_features_labels(test_features, test_labels, batch_size):\n",
    "            test_batch_acc_total += sess.run(\n",
    "                loaded_acc,\n",
    "                feed_dict={loaded_x: test_feature_batch, loaded_y: test_label_batch, loaded_keep_prob: 1.0})\n",
    "            test_batch_count += 1\n",
    "\n",
    "        print('Testing Accuracy: {}\\n'.format(test_batch_acc_total/test_batch_count))\n",
    "\n",
    "        # Print Random Samples\n",
    "        random_test_features, random_test_labels = tuple(zip(*random.sample(list(zip(test_features, test_labels)), n_samples)))\n",
    "        random_test_predictions = sess.run(\n",
    "            tf.nn.top_k(tf.nn.softmax(loaded_logits), top_n_predictions),\n",
    "            feed_dict={loaded_x: random_test_features, loaded_y: random_test_labels, loaded_keep_prob: 1.0})\n",
    "        helper.display_image_predictions(random_test_features, random_test_labels, random_test_predictions)\n",
    "\n",
    "\n",
    "test_model()"
   ]
  },
  {
   "cell_type": "markdown",
   "metadata": {},
   "source": [
    "## Why 50-80% Accuracy?\n",
    "You might be wondering why you can't get an accuracy any higher. First things first, 50% isn't bad for a simple CNN.  Pure guessing would get you 10% accuracy. However, you might notice people are getting scores [well above 80%](http://rodrigob.github.io/are_we_there_yet/build/classification_datasets_results.html#43494641522d3130).  That's because we haven't taught you all there is to know about neural networks. We still need to cover a few more techniques.\n",
    "## Submitting This Project\n",
    "When submitting this project, make sure to run all the cells before saving the notebook.  Save the notebook file as \"dlnd_image_classification.ipynb\" and save it as a HTML file under \"File\" -> \"Download as\".  Include the \"helper.py\" and \"problem_unittests.py\" files in your submission."
   ]
  },
  {
   "cell_type": "code",
   "execution_count": null,
   "metadata": {
    "collapsed": true
   },
   "outputs": [],
   "source": []
  }
 ],
 "metadata": {
  "kernelspec": {
   "display_name": "Python 3",
   "language": "python",
   "name": "python3"
  },
  "language_info": {
   "codemirror_mode": {
    "name": "ipython",
    "version": 3
   },
   "file_extension": ".py",
   "mimetype": "text/x-python",
   "name": "python",
   "nbconvert_exporter": "python",
   "pygments_lexer": "ipython3",
   "version": "3.5.3"
  }
 },
 "nbformat": 4,
 "nbformat_minor": 1
}
