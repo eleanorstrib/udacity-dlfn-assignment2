{
 "cells": [
  {
   "cell_type": "markdown",
   "metadata": {
    "collapsed": true
   },
   "source": [
    "# Image Classification\n",
    "In this project, you'll classify images from the [CIFAR-10 dataset](https://www.cs.toronto.edu/~kriz/cifar.html).  The dataset consists of airplanes, dogs, cats, and other objects. You'll preprocess the images, then train a convolutional neural network on all the samples. The images need to be normalized and the labels need to be one-hot encoded.  You'll get to apply what you learned and build a convolutional, max pooling, dropout, and fully connected layers.  At the end, you'll get to see your neural network's predictions on the sample images.\n",
    "## Get the Data\n",
    "Run the following cell to download the [CIFAR-10 dataset for python](https://www.cs.toronto.edu/~kriz/cifar-10-python.tar.gz)."
   ]
  },
  {
   "cell_type": "code",
   "execution_count": 1,
   "metadata": {},
   "outputs": [
    {
     "name": "stdout",
     "output_type": "stream",
     "text": [
      "All files found!\n"
     ]
    }
   ],
   "source": [
    "\"\"\"\n",
    "DON'T MODIFY ANYTHING IN THIS CELL THAT IS BELOW THIS LINE\n",
    "\"\"\"\n",
    "from urllib.request import urlretrieve\n",
    "from os.path import isfile, isdir\n",
    "from tqdm import tqdm\n",
    "import problem_unittests as tests\n",
    "import tarfile\n",
    "\n",
    "cifar10_dataset_folder_path = 'cifar-10-batches-py'\n",
    "\n",
    "# Use Floyd's cifar-10 dataset if present\n",
    "floyd_cifar10_location = '/input/cifar-10/python.tar.gz'\n",
    "if isfile(floyd_cifar10_location):\n",
    "    tar_gz_path = floyd_cifar10_location\n",
    "else:\n",
    "    tar_gz_path = 'cifar-10-python.tar.gz'\n",
    "\n",
    "class DLProgress(tqdm):\n",
    "    last_block = 0\n",
    "\n",
    "    def hook(self, block_num=1, block_size=1, total_size=None):\n",
    "        self.total = total_size\n",
    "        self.update((block_num - self.last_block) * block_size)\n",
    "        self.last_block = block_num\n",
    "\n",
    "if not isfile(tar_gz_path):\n",
    "    with DLProgress(unit='B', unit_scale=True, miniters=1, desc='CIFAR-10 Dataset') as pbar:\n",
    "        urlretrieve(\n",
    "            'https://www.cs.toronto.edu/~kriz/cifar-10-python.tar.gz',\n",
    "            tar_gz_path,\n",
    "            pbar.hook)\n",
    "\n",
    "if not isdir(cifar10_dataset_folder_path):\n",
    "    with tarfile.open(tar_gz_path) as tar:\n",
    "        tar.extractall()\n",
    "        tar.close()\n",
    "\n",
    "\n",
    "tests.test_folder_path(cifar10_dataset_folder_path)"
   ]
  },
  {
   "cell_type": "markdown",
   "metadata": {},
   "source": [
    "## Explore the Data\n",
    "The dataset is broken into batches to prevent your machine from running out of memory.  The CIFAR-10 dataset consists of 5 batches, named `data_batch_1`, `data_batch_2`, etc.. Each batch contains the labels and images that are one of the following:\n",
    "* airplane\n",
    "* automobile\n",
    "* bird\n",
    "* cat\n",
    "* deer\n",
    "* dog\n",
    "* frog\n",
    "* horse\n",
    "* ship\n",
    "* truck\n",
    "\n",
    "Understanding a dataset is part of making predictions on the data.  Play around with the code cell below by changing the `batch_id` and `sample_id`. The `batch_id` is the id for a batch (1-5). The `sample_id` is the id for a image and label pair in the batch.\n",
    "\n",
    "Ask yourself \"What are all possible labels?\", \"What is the range of values for the image data?\", \"Are the labels in order or random?\".  Answers to questions like these will help you preprocess the data and end up with better predictions."
   ]
  },
  {
   "cell_type": "code",
   "execution_count": 2,
   "metadata": {},
   "outputs": [
    {
     "name": "stdout",
     "output_type": "stream",
     "text": [
      "\n",
      "Stats of batch 1:\n",
      "Samples: 10000\n",
      "Label Counts: {0: 1005, 1: 974, 2: 1032, 3: 1016, 4: 999, 5: 937, 6: 1030, 7: 1001, 8: 1025, 9: 981}\n",
      "First 20 Labels: [6, 9, 9, 4, 1, 1, 2, 7, 8, 3, 4, 7, 7, 2, 9, 9, 9, 3, 2, 6]\n",
      "\n",
      "Example of Image 500:\n",
      "Image - Min Value: 0 Max Value: 255\n",
      "Image - Shape: (32, 32, 3)\n",
      "Label - Label Id: 5 Name: dog\n"
     ]
    },
    {
     "data": {
      "image/png": "[encoded data removed]",
      "text/plain": [
       "<matplotlib.figure.Figure at 0x7faf8d2825c0>"
      ]
     },
     "metadata": {
      "image/png": {
       "height": 250,
       "width": 253
      }
     },
     "output_type": "display_data"
    }
   ],
   "source": [
    "%matplotlib inline\n",
    "%config InlineBackend.figure_format = 'retina'\n",
    "\n",
    "import helper\n",
    "import numpy as np\n",
    "\n",
    "# Explore the dataset\n",
    "batch_id = 1\n",
    "sample_id = 500\n",
    "helper.display_stats(cifar10_dataset_folder_path, batch_id, sample_id)"
   ]
  },
  {
   "cell_type": "markdown",
   "metadata": {},
   "source": [
    "## Implement Preprocess Functions\n",
    "### Normalize\n",
    "In the cell below, implement the `normalize` function to take in image data, `x`, and return it as a normalized Numpy array. The values should be in the range of 0 to 1, inclusive.  The return object should be the same shape as `x`."
   ]
  },
  {
   "cell_type": "code",
   "execution_count": 3,
   "metadata": {},
   "outputs": [
    {
     "name": "stdout",
     "output_type": "stream",
     "text": [
      "Tests Passed\n"
     ]
    }
   ],
   "source": [
    "def normalize(x):\n",
    "    \"\"\"\n",
    "    Normalize a list of sample image data in the range of 0 to 1\n",
    "    : x: List of image data.  The image shape is (32, 32, 3)\n",
    "    : return: Numpy array of normalize data\n",
    "    \"\"\"\n",
    "    x = np.array((x - np.min(x))/(np.max(x)-np.min(x)))\n",
    "    return x\n",
    "\n",
    "\n",
    "\"\"\"\n",
    "DON'T MODIFY ANYTHING IN THIS CELL THAT IS BELOW THIS LINE\n",
    "\"\"\"\n",
    "tests.test_normalize(normalize)"
   ]
  },
  {
   "cell_type": "markdown",
   "metadata": {},
   "source": [
    "### One-hot encode\n",
    "Just like the previous code cell, you'll be implementing a function for preprocessing.  This time, you'll implement the `one_hot_encode` function. The input, `x`, are a list of labels.  Implement the function to return the list of labels as One-Hot encoded Numpy array.  The possible values for labels are 0 to 9. The one-hot encoding function should return the same encoding for each value between each call to `one_hot_encode`.  Make sure to save the map of encodings outside the function.\n",
    "\n",
    "Hint: Don't reinvent the wheel."
   ]
  },
  {
   "cell_type": "code",
   "execution_count": 4,
   "metadata": {},
   "outputs": [
    {
     "name": "stdout",
     "output_type": "stream",
     "text": [
      "Tests Passed\n"
     ]
    }
   ],
   "source": [
    "from sklearn.preprocessing import LabelBinarizer\n",
    "lb = LabelBinarizer()\n",
    "lb = lb.fit(range(10))\n",
    "\n",
    "def one_hot_encode(x):\n",
    "    \"\"\"\n",
    "    One hot encode a list of sample labels. Return a one-hot encoded vector for each label.\n",
    "    : x: List of sample Labels\n",
    "    : return: Numpy array of one-hot encoded labels\n",
    "    \"\"\"\n",
    "    x = lb.transform(x)\n",
    "    return x\n",
    "\n",
    "\n",
    "\n",
    "\"\"\"\n",
    "DON'T MODIFY ANYTHING IN THIS CELL THAT IS BELOW THIS LINE\n",
    "\"\"\"\n",
    "tests.test_one_hot_encode(one_hot_encode)"
   ]
  },
  {
   "cell_type": "markdown",
   "metadata": {},
   "source": [
    "### Randomize Data\n",
    "As you saw from exploring the data above, the order of the samples are randomized.  It doesn't hurt to randomize it again, but you don't need to for this dataset."
   ]
  },
  {
   "cell_type": "markdown",
   "metadata": {},
   "source": [
    "## Preprocess all the data and save it\n",
    "Running the code cell below will preprocess all the CIFAR-10 data and save it to file. The code below also uses 10% of the training data for validation."
   ]
  },
  {
   "cell_type": "code",
   "execution_count": 5,
   "metadata": {
    "collapsed": true
   },
   "outputs": [],
   "source": [
    "\"\"\"\n",
    "DON'T MODIFY ANYTHING IN THIS CELL\n",
    "\"\"\"\n",
    "# Preprocess Training, Validation, and Testing Data\n",
    "helper.preprocess_and_save_data(cifar10_dataset_folder_path, normalize, one_hot_encode)"
   ]
  },
  {
   "cell_type": "markdown",
   "metadata": {},
   "source": [
    "# Check Point\n",
    "This is your first checkpoint.  If you ever decide to come back to this notebook or have to restart the notebook, you can start from here.  The preprocessed data has been saved to disk."
   ]
  },
  {
   "cell_type": "code",
   "execution_count": 6,
   "metadata": {
    "collapsed": true
   },
   "outputs": [],
   "source": [
    "\"\"\"\n",
    "DON'T MODIFY ANYTHING IN THIS CELL\n",
    "\"\"\"\n",
    "import pickle\n",
    "import problem_unittests as tests\n",
    "import helper\n",
    "\n",
    "# Load the Preprocessed Validation data\n",
    "valid_features, valid_labels = pickle.load(open('preprocess_validation.p', mode='rb'))"
   ]
  },
  {
   "cell_type": "markdown",
   "metadata": {},
   "source": [
    "## Build the network\n",
    "For the neural network, you'll build each layer into a function.  Most of the code you've seen has been outside of functions. To test your code more thoroughly, we require that you put each layer in a function.  This allows us to give you better feedback and test for simple mistakes using our unittests before you submit your project.\n",
    "\n",
    ">**Note:** If you're finding it hard to dedicate enough time for this course each week, we've provided a small shortcut to this part of the project. In the next couple of problems, you'll have the option to use classes from the [TensorFlow Layers](https://www.tensorflow.org/api_docs/python/tf/layers) or [TensorFlow Layers (contrib)](https://www.tensorflow.org/api_guides/python/contrib.layers) packages to build each layer, except the layers you build in the \"Convolutional and Max Pooling Layer\" section.  TF Layers is similar to Keras's and TFLearn's abstraction to layers, so it's easy to pickup.\n",
    "\n",
    ">However, if you would like to get the most out of this course, try to solve all the problems _without_ using anything from the TF Layers packages. You **can** still use classes from other packages that happen to have the same name as ones you find in TF Layers! For example, instead of using the TF Layers version of the `conv2d` class, [tf.layers.conv2d](https://www.tensorflow.org/api_docs/python/tf/layers/conv2d), you would want to use the TF Neural Network version of `conv2d`, [tf.nn.conv2d](https://www.tensorflow.org/api_docs/python/tf/nn/conv2d). \n",
    "\n",
    "Let's begin!\n",
    "\n",
    "### Input\n",
    "The neural network needs to read the image data, one-hot encoded labels, and dropout keep probability. Implement the following functions\n",
    "* Implement `neural_net_image_input`\n",
    " * Return a [TF Placeholder](https://www.tensorflow.org/api_docs/python/tf/placeholder)\n",
    " * Set the shape using `image_shape` with batch size set to `None`.\n",
    " * Name the TensorFlow placeholder \"x\" using the TensorFlow `name` parameter in the [TF Placeholder](https://www.tensorflow.org/api_docs/python/tf/placeholder).\n",
    "* Implement `neural_net_label_input`\n",
    " * Return a [TF Placeholder](https://www.tensorflow.org/api_docs/python/tf/placeholder)\n",
    " * Set the shape using `n_classes` with batch size set to `None`.\n",
    " * Name the TensorFlow placeholder \"y\" using the TensorFlow `name` parameter in the [TF Placeholder](https://www.tensorflow.org/api_docs/python/tf/placeholder).\n",
    "* Implement `neural_net_keep_prob_input`\n",
    " * Return a [TF Placeholder](https://www.tensorflow.org/api_docs/python/tf/placeholder) for dropout keep probability.\n",
    " * Name the TensorFlow placeholder \"keep_prob\" using the TensorFlow `name` parameter in the [TF Placeholder](https://www.tensorflow.org/api_docs/python/tf/placeholder).\n",
    "\n",
    "These names will be used at the end of the project to load your saved model.\n",
    "\n",
    "Note: `None` for shapes in TensorFlow allow for a dynamic size."
   ]
  },
  {
   "cell_type": "code",
   "execution_count": 7,
   "metadata": {},
   "outputs": [
    {
     "name": "stdout",
     "output_type": "stream",
     "text": [
      "Image Input Tests Passed.\n",
      "Label Input Tests Passed.\n",
      "Keep Prob Tests Passed.\n"
     ]
    }
   ],
   "source": [
    "import tensorflow as tf\n",
    "\n",
    "def neural_net_image_input(image_shape):\n",
    "    \"\"\"\n",
    "    Return a Tensor for a batch of image input\n",
    "    : image_shape: Shape of the images\n",
    "    : return: Tensor for image input.\n",
    "    \"\"\"\n",
    "    return tf.placeholder(tf.float32, \n",
    "                          name='x', \n",
    "                          shape=(None, image_shape[0], image_shape[1], image_shape[2])\n",
    "                         )\n",
    "\n",
    "\n",
    "def neural_net_label_input(n_classes):\n",
    "    \"\"\"\n",
    "    Return a Tensor for a batch of label input\n",
    "    : n_classes: Number of classes\n",
    "    : return: Tensor for label input.\n",
    "    \"\"\"\n",
    "    return tf.placeholder(tf.float32,\n",
    "                          name='y',\n",
    "                          shape=(None, n_classes)\n",
    "                        )\n",
    "\n",
    "\n",
    "def neural_net_keep_prob_input():\n",
    "    \"\"\"\n",
    "    Return a Tensor for keep probability\n",
    "    : return: Tensor for keep probability.\n",
    "    \"\"\"\n",
    "    return tf.placeholder(tf.float32,\n",
    "                         name='keep_prob')\n",
    "\n",
    "\n",
    "\"\"\"\n",
    "DON'T MODIFY ANYTHING IN THIS CELL THAT IS BELOW THIS LINE\n",
    "\"\"\"\n",
    "tf.reset_default_graph()\n",
    "tests.test_nn_image_inputs(neural_net_image_input)\n",
    "tests.test_nn_label_inputs(neural_net_label_input)\n",
    "tests.test_nn_keep_prob_inputs(neural_net_keep_prob_input)"
   ]
  },
  {
   "cell_type": "markdown",
   "metadata": {},
   "source": [
    "### Convolution and Max Pooling Layer\n",
    "Convolution layers have a lot of success with images. For this code cell, you should implement the function `conv2d_maxpool` to apply convolution then max pooling:\n",
    "* Create the weight and bias using `conv_ksize`, `conv_num_outputs` and the shape of `x_tensor`.\n",
    "* Apply a convolution to `x_tensor` using weight and `conv_strides`.\n",
    " * We recommend you use same padding, but you're welcome to use any padding.\n",
    "* Add bias\n",
    "* Add a nonlinear activation to the convolution.\n",
    "* Apply Max Pooling using `pool_ksize` and `pool_strides`.\n",
    " * We recommend you use same padding, but you're welcome to use any padding.\n",
    "\n",
    "**Note:** You **can't** use [TensorFlow Layers](https://www.tensorflow.org/api_docs/python/tf/layers) or [TensorFlow Layers (contrib)](https://www.tensorflow.org/api_guides/python/contrib.layers) for **this** layer, but you can still use TensorFlow's [Neural Network](https://www.tensorflow.org/api_docs/python/tf/nn) package. You may still use the shortcut option for all the **other** layers."
   ]
  },
  {
   "cell_type": "code",
   "execution_count": 8,
   "metadata": {},
   "outputs": [
    {
     "name": "stdout",
     "output_type": "stream",
     "text": [
      "Tests Passed\n"
     ]
    }
   ],
   "source": [
    "def conv2d_maxpool(x_tensor, conv_num_outputs, conv_ksize, conv_strides, pool_ksize, pool_strides):\n",
    "    \"\"\"\n",
    "    Apply convolution then max pooling to x_tensor\n",
    "    :param x_tensor: TensorFlow Tensor\n",
    "    :param conv_num_outputs: Number of outputs for the convolutional layer\n",
    "    :param conv_ksize: kernal size 2-D Tuple for the convolutional layer\n",
    "    :param conv_strides: Stride 2-D Tuple for convolution\n",
    "    :param pool_ksize: kernal size 2-D Tuple for pool\n",
    "    :param pool_strides: Stride 2-D Tuple for pool\n",
    "    : return: A tensor that represents convolution and max pooling of x_tensor\n",
    "    \"\"\"\n",
    "    color_channels = x_tensor.get_shape().as_list()[-1]\n",
    "    padding_value = 1\n",
    "    padding_type = 'SAME'\n",
    "    \n",
    "    f_weight = tf.Variable(tf.truncated_normal(\n",
    "                        [conv_ksize[0],\n",
    "                         conv_ksize[1],\n",
    "                         color_channels,\n",
    "                         conv_num_outputs], \n",
    "                        dtype=tf.float32\n",
    "                        ))\n",
    "    f_bias = tf.Variable(tf.zeros(conv_num_outputs))\n",
    "    \n",
    "    strides_conv = [padding_value, conv_strides[0], conv_strides[1], padding_value]\n",
    "    conv_layer = tf.nn.conv2d(x_tensor, f_weight, strides=strides_conv, padding=padding_type)\n",
    "    conv_layer = tf.nn.bias_add(conv_layer, f_bias)\n",
    "    \n",
    "    conv_layer = tf.nn.relu(conv_layer)\n",
    "    \n",
    "    strides_pool = [padding_value, pool_strides[0], pool_strides[1], padding_value]\n",
    "    conv_layer = tf.nn.max_pool(conv_layer, [1, pool_ksize[0], pool_ksize[1], 1], strides_pool, padding_type)\n",
    "\n",
    "    return conv_layer\n",
    "\n",
    "\"\"\"\n",
    "DON'T MODIFY ANYTHING IN THIS CELL THAT IS BELOW THIS LINE\n",
    "\"\"\"\n",
    "tests.test_con_pool(conv2d_maxpool)"
   ]
  },
  {
   "cell_type": "markdown",
   "metadata": {},
   "source": [
    "### Flatten Layer\n",
    "Implement the `flatten` function to change the dimension of `x_tensor` from a 4-D tensor to a 2-D tensor.  The output should be the shape (*Batch Size*, *Flattened Image Size*). Shortcut option: you can use classes from the [TensorFlow Layers](https://www.tensorflow.org/api_docs/python/tf/layers) or [TensorFlow Layers (contrib)](https://www.tensorflow.org/api_guides/python/contrib.layers) packages for this layer. For more of a challenge, only use other TensorFlow packages."
   ]
  },
  {
   "cell_type": "code",
   "execution_count": 9,
   "metadata": {},
   "outputs": [
    {
     "name": "stdout",
     "output_type": "stream",
     "text": [
      "Tests Passed\n"
     ]
    }
   ],
   "source": [
    "def flatten(x_tensor):\n",
    "    \"\"\"\n",
    "    Flatten x_tensor to (Batch Size, Flattened Image Size)\n",
    "    : x_tensor: A tensor of size (Batch Size, ...), where ... are the image dimensions.\n",
    "    : return: A tensor of size (Batch Size, Flattened Image Size).\n",
    "    \"\"\"\n",
    "    \n",
    "    t_shape = x_tensor.get_shape().as_list()\n",
    "    flattened = tf.reshape(x_tensor, [-1, t_shape[1]*t_shape[2]*t_shape[3]])\n",
    "    return flattened\n",
    "\n",
    "\n",
    "\"\"\"\n",
    "DON'T MODIFY ANYTHING IN THIS CELL THAT IS BELOW THIS LINE\n",
    "\"\"\"\n",
    "tests.test_flatten(flatten)"
   ]
  },
  {
   "cell_type": "markdown",
   "metadata": {},
   "source": [
    "### Fully-Connected Layer\n",
    "Implement the `fully_conn` function to apply a fully connected layer to `x_tensor` with the shape (*Batch Size*, *num_outputs*). Shortcut option: you can use classes from the [TensorFlow Layers](https://www.tensorflow.org/api_docs/python/tf/layers) or [TensorFlow Layers (contrib)](https://www.tensorflow.org/api_guides/python/contrib.layers) packages for this layer. For more of a challenge, only use other TensorFlow packages."
   ]
  },
  {
   "cell_type": "code",
   "execution_count": 10,
   "metadata": {},
   "outputs": [
    {
     "name": "stdout",
     "output_type": "stream",
     "text": [
      "Tests Passed\n"
     ]
    }
   ],
   "source": [
    "def fully_conn(x_tensor, num_outputs):\n",
    "    \"\"\"\n",
    "    Apply a fully connected layer to x_tensor using weight and bias\n",
    "    : x_tensor: A 2-D tensor where the first dimension is batch size.\n",
    "    : num_outputs: The number of output that the new tensor should be.\n",
    "    : return: A 2-D tensor where the second dimension is num_outputs.\n",
    "    \"\"\"\n",
    "    weight = tf.Variable(tf.truncated_normal(\n",
    "                        [x_tensor.get_shape().as_list()[1],\n",
    "                         num_outputs], \n",
    "                        dtype=tf.float32\n",
    "                        ))\n",
    "    bias = tf.Variable(tf.zeros(num_outputs))\n",
    "    fc = tf.add(tf.matmul(x_tensor, weight), bias)  #problem here\n",
    "    fc = tf.nn.relu(fc)\n",
    "    return fc\n",
    "\n",
    "\n",
    "\"\"\"\n",
    "DON'T MODIFY ANYTHING IN THIS CELL THAT IS BELOW THIS LINE\n",
    "\"\"\"\n",
    "tests.test_fully_conn(fully_conn)"
   ]
  },
  {
   "cell_type": "markdown",
   "metadata": {},
   "source": [
    "### Output Layer\n",
    "Implement the `output` function to apply a fully connected layer to `x_tensor` with the shape (*Batch Size*, *num_outputs*). Shortcut option: you can use classes from the [TensorFlow Layers](https://www.tensorflow.org/api_docs/python/tf/layers) or [TensorFlow Layers (contrib)](https://www.tensorflow.org/api_guides/python/contrib.layers) packages for this layer. For more of a challenge, only use other TensorFlow packages.\n",
    "\n",
    "**Note:** Activation, softmax, or cross entropy should **not** be applied to this."
   ]
  },
  {
   "cell_type": "code",
   "execution_count": 11,
   "metadata": {},
   "outputs": [
    {
     "name": "stdout",
     "output_type": "stream",
     "text": [
      "Tests Passed\n"
     ]
    }
   ],
   "source": [
    "def output(x_tensor, num_outputs):\n",
    "    \"\"\"\n",
    "    Apply a output layer to x_tensor using weight and bias\n",
    "    : x_tensor: A 2-D tensor where the first dimension is batch size.\n",
    "    : num_outputs: The number of output that the new tensor should be.\n",
    "    : return: A 2-D tensor where the second dimension is num_outputs.\n",
    "    \"\"\"\n",
    "    weight = tf.Variable(tf.truncated_normal(\n",
    "                    [x_tensor.get_shape().as_list()[1],\n",
    "                     num_outputs], \n",
    "                    dtype=tf.float32\n",
    "                    ))\n",
    "    bias = tf.Variable(tf.random_normal([num_outputs])) \n",
    "    out = tf.add(tf.matmul(x_tensor, weight), bias)\n",
    "\n",
    "    return out\n",
    "\n",
    "\n",
    "\"\"\"\n",
    "DON'T MODIFY ANYTHING IN THIS CELL THAT IS BELOW THIS LINE\n",
    "\"\"\"\n",
    "tests.test_output(output)"
   ]
  },
  {
   "cell_type": "markdown",
   "metadata": {},
   "source": [
    "### Create Convolutional Model\n",
    "Implement the function `conv_net` to create a convolutional neural network model. The function takes in a batch of images, `x`, and outputs logits.  Use the layers you created above to create this model:\n",
    "\n",
    "* Apply 1, 2, or 3 Convolution and Max Pool layers\n",
    "* Apply a Flatten Layer\n",
    "* Apply 1, 2, or 3 Fully Connected Layers\n",
    "* Apply an Output Layer\n",
    "* Return the output\n",
    "* Apply [TensorFlow's Dropout](https://www.tensorflow.org/api_docs/python/tf/nn/dropout) to one or more layers in the model using `keep_prob`. "
   ]
  },
  {
   "cell_type": "code",
   "execution_count": 68,
   "metadata": {},
   "outputs": [
    {
     "name": "stdout",
     "output_type": "stream",
     "text": [
      "Tensor(\"x:0\", shape=(?, 32, 32, 3), dtype=float32)\n",
      "Tensor(\"Placeholder:0\", shape=(?, 32, 32, 3), dtype=float32)\n",
      "Neural Network Built!\n"
     ]
    }
   ],
   "source": [
    "def conv_net(x, keep_prob):\n",
    "    \"\"\"\n",
    "    Create a convolutional neural network model\n",
    "    : x: Placeholder tensor that holds image data.\n",
    "    : keep_prob: Placeholder tensor that hold dropout keep probability.\n",
    "    : return: Tensor that represents logits\n",
    "    \"\"\"\n",
    "    conv_num_outputs = 10 # number of outputs for the convolutional layer\n",
    "    conv_ksize = (1,1) # kernal/filter size for convolutional layer\n",
    "    conv_strides = (2,2) #2-D tuple representing movement of the filter across the image\n",
    "    pool_ksize = (3,3) #kernal/filter and max pool step\n",
    "    pool_strides = (2,2) #movement of filter across the image\n",
    "    \n",
    "    # TODO: Apply 1, 2, or 3 Convolution and Max Pool layers\n",
    "    #    Play around with different number of outputs, kernel size and stride\n",
    "    # Function Definition from Above:\n",
    "    #    conv2d_maxpool(x_tensor, conv_num_outputs, conv_ksize, conv_strides, pool_ksize, pool_strides)\n",
    "    print(x)\n",
    "    layer_0 = conv2d_maxpool(x, conv_num_outputs, conv_ksize, conv_strides, pool_ksize, pool_strides)\n",
    "    layer_1 = conv2d_maxpool(layer_0, conv_num_outputs, conv_ksize, conv_strides, pool_ksize, pool_strides)\n",
    "    \n",
    "    # TODO: Apply a Flatten Layer\n",
    "    # Function Definition from Above:\n",
    "    #   flatten(x_tensor)\n",
    "    \n",
    "    flattened_layer = flatten(layer_1)\n",
    "    \n",
    "    # TODO: Apply 1, 2, or 3 Fully Connected Layers\n",
    "    #    Play around with different number of outputs\n",
    "    # Function Definition from Above:\n",
    "    #   fully_conn(x_tensor, num_outputs)\n",
    "    fully_conn_layer = fully_conn(flattened_layer, 120)\n",
    "    fully_conn_layer_d = tf.nn.dropout(fully_conn_layer, keep_prob)\n",
    "    \n",
    "    # TODO: Apply an Output Layer\n",
    "    #    Set this to the number of classes\n",
    "    # Function Definition from Above:\n",
    "    #   output(x_tensor, num_outputs)\n",
    "    output_values = output(fully_conn_layer_d, conv_num_outputs)\n",
    "\n",
    "\n",
    "    # TODO: return output\n",
    "    return output_values\n",
    "\n",
    "\n",
    "\"\"\"\n",
    "DON'T MODIFY ANYTHING IN THIS CELL THAT IS BELOW THIS LINE\n",
    "\"\"\"\n",
    "\n",
    "##############################\n",
    "## Build the Neural Network ##\n",
    "##############################\n",
    "\n",
    "# Remove previous weights, bias, inputs, etc..\n",
    "tf.reset_default_graph()\n",
    "\n",
    "# Inputs\n",
    "x = neural_net_image_input((32, 32, 3))\n",
    "y = neural_net_label_input(10)\n",
    "keep_prob = neural_net_keep_prob_input()\n",
    "\n",
    "# Model\n",
    "logits = conv_net(x, keep_prob)\n",
    "\n",
    "# Name logits Tensor, so that is can be loaded from disk after training\n",
    "logits = tf.identity(logits, name='logits')\n",
    "\n",
    "# Loss and Optimizer\n",
    "cost = tf.reduce_mean(tf.nn.softmax_cross_entropy_with_logits(logits=logits, labels=y))\n",
    "optimizer = tf.train.AdamOptimizer().minimize(cost)\n",
    "\n",
    "# Accuracy\n",
    "correct_pred = tf.equal(tf.argmax(logits, 1), tf.argmax(y, 1))\n",
    "accuracy = tf.reduce_mean(tf.cast(correct_pred, tf.float32), name='accuracy')\n",
    "\n",
    "tests.test_conv_net(conv_net)"
   ]
  },
  {
   "cell_type": "markdown",
   "metadata": {},
   "source": [
    "## Train the Neural Network\n",
    "### Single Optimization\n",
    "Implement the function `train_neural_network` to do a single optimization.  The optimization should use `optimizer` to optimize in `session` with a `feed_dict` of the following:\n",
    "* `x` for image input\n",
    "* `y` for labels\n",
    "* `keep_prob` for keep probability for dropout\n",
    "\n",
    "This function will be called for each batch, so `tf.global_variables_initializer()` has already been called.\n",
    "\n",
    "Note: Nothing needs to be returned. This function is only optimizing the neural network."
   ]
  },
  {
   "cell_type": "code",
   "execution_count": 69,
   "metadata": {},
   "outputs": [
    {
     "name": "stdout",
     "output_type": "stream",
     "text": [
      "Tests Passed\n"
     ]
    }
   ],
   "source": [
    "def train_neural_network(session, optimizer, keep_probability, feature_batch, label_batch):\n",
    "    \"\"\"\n",
    "    Optimize the session on a batch of images and labels\n",
    "    : session: Current TensorFlow session\n",
    "    : optimizer: TensorFlow optimizer function\n",
    "    : keep_probability: keep probability\n",
    "    : feature_batch: Batch of Numpy image data\n",
    "    : label_batch: Batch of Numpy label data\n",
    "    \"\"\"\n",
    "    # TO DO: Add function\n",
    "    # added \"as_default\" method to address a session-related error I encountered when training\n",
    "    with session.as_default() as s:\n",
    "        s.run(optimizer, feed_dict={x: feature_batch,\n",
    "                                    y: label_batch,\n",
    "                                    keep_prob: keep_probability})\n",
    "\n",
    "\n",
    "\"\"\"\n",
    "DON'T MODIFY ANYTHING IN THIS CELL THAT IS BELOW THIS LINE\n",
    "\"\"\"\n",
    "tests.test_train_nn(train_neural_network)"
   ]
  },
  {
   "cell_type": "markdown",
   "metadata": {},
   "source": [
    "### Show Stats\n",
    "Implement the function `print_stats` to print loss and validation accuracy.  Use the global variables `valid_features` and `valid_labels` to calculate validation accuracy.  Use a keep probability of `1.0` to calculate the loss and validation accuracy."
   ]
  },
  {
   "cell_type": "code",
   "execution_count": 70,
   "metadata": {
    "collapsed": true
   },
   "outputs": [],
   "source": [
    "def print_stats(session, feature_batch, label_batch, cost, accuracy):\n",
    "    \"\"\"\n",
    "    Print information about loss and validation accuracy\n",
    "    : session: Current TensorFlow session\n",
    "    : feature_batch: Batch of Numpy image data\n",
    "    : label_batch: Batch of Numpy label data\n",
    "    : cost: TensorFlow cost function\n",
    "    : accuracy: TensorFlow accuracy function\n",
    "    \"\"\"\n",
    "    # TODO: write function\n",
    "    loss = sess.run(cost, feed_dict={\n",
    "                x: feature_batch,\n",
    "                y: label_batch,\n",
    "                keep_prob: 1.})\n",
    "    valid_acc = sess.run(accuracy, feed_dict={\n",
    "                x: feature_batch,\n",
    "                y: label_batch,\n",
    "                keep_prob: 1.0})\n",
    "    print('Loss: {:>10.4f}; Validation Accuracy: {:.6f}'.format(loss, valid_acc))"
   ]
  },
  {
   "cell_type": "markdown",
   "metadata": {},
   "source": [
    "### Hyperparameters\n",
    "Tune the following parameters:\n",
    "* Set `epochs` to the number of iterations until the network stops learning or start overfitting\n",
    "* Set `batch_size` to the highest number that your machine has memory for.  Most people set them to common sizes of memory:\n",
    " * 64\n",
    " * 128\n",
    " * 256\n",
    " * ...\n",
    "* Set `keep_probability` to the probability of keeping a node using dropout"
   ]
  },
  {
   "cell_type": "code",
   "execution_count": 71,
   "metadata": {
    "collapsed": true
   },
   "outputs": [],
   "source": [
    "# TODO: Tune Parameters\n",
    "epochs = 300\n",
    "batch_size = 1024\n",
    "keep_probability = 0.85"
   ]
  },
  {
   "cell_type": "markdown",
   "metadata": {},
   "source": [
    "### Train on a Single CIFAR-10 Batch\n",
    "Instead of training the neural network on all the CIFAR-10 batches of data, let's use a single batch. This should save time while you iterate on the model to get a better accuracy.  Once the final validation accuracy is 50% or greater, run the model on all the data in the next section."
   ]
  },
  {
   "cell_type": "code",
   "execution_count": 72,
   "metadata": {},
   "outputs": [
    {
     "name": "stdout",
     "output_type": "stream",
     "text": [
      "Checking the Training on a Single Batch...\n",
      "Epoch  1, CIFAR-10 Batch 1:  Loss:    16.9315; Validation Accuracy: 0.112624\n",
      "Epoch  2, CIFAR-10 Batch 1:  Loss:    10.7389; Validation Accuracy: 0.118812\n",
      "Epoch  3, CIFAR-10 Batch 1:  Loss:     7.6537; Validation Accuracy: 0.131188\n",
      "Epoch  4, CIFAR-10 Batch 1:  Loss:     6.1178; Validation Accuracy: 0.136139\n",
      "Epoch  5, CIFAR-10 Batch 1:  Loss:     5.2347; Validation Accuracy: 0.120050\n",
      "Epoch  6, CIFAR-10 Batch 1:  Loss:     4.6817; Validation Accuracy: 0.115099\n",
      "Epoch  7, CIFAR-10 Batch 1:  Loss:     4.1008; Validation Accuracy: 0.127475\n",
      "Epoch  8, CIFAR-10 Batch 1:  Loss:     3.8639; Validation Accuracy: 0.129950\n",
      "Epoch  9, CIFAR-10 Batch 1:  Loss:     3.6689; Validation Accuracy: 0.134901\n",
      "Epoch 10, CIFAR-10 Batch 1:  Loss:     3.4854; Validation Accuracy: 0.138614\n",
      "Epoch 11, CIFAR-10 Batch 1:  Loss:     3.3525; Validation Accuracy: 0.139851\n",
      "Epoch 12, CIFAR-10 Batch 1:  Loss:     3.2204; Validation Accuracy: 0.141089\n",
      "Epoch 13, CIFAR-10 Batch 1:  Loss:     3.1183; Validation Accuracy: 0.148515\n",
      "Epoch 14, CIFAR-10 Batch 1:  Loss:     3.0460; Validation Accuracy: 0.150990\n",
      "Epoch 15, CIFAR-10 Batch 1:  Loss:     2.9838; Validation Accuracy: 0.138614\n",
      "Epoch 16, CIFAR-10 Batch 1:  Loss:     2.9182; Validation Accuracy: 0.136139\n",
      "Epoch 17, CIFAR-10 Batch 1:  Loss:     2.8586; Validation Accuracy: 0.125000\n",
      "Epoch 18, CIFAR-10 Batch 1:  Loss:     2.7952; Validation Accuracy: 0.129950\n",
      "Epoch 19, CIFAR-10 Batch 1:  Loss:     2.7479; Validation Accuracy: 0.131188\n",
      "Epoch 20, CIFAR-10 Batch 1:  Loss:     2.7236; Validation Accuracy: 0.127475\n",
      "Epoch 21, CIFAR-10 Batch 1:  Loss:     2.7224; Validation Accuracy: 0.128713\n",
      "Epoch 22, CIFAR-10 Batch 1:  Loss:     2.7103; Validation Accuracy: 0.138614\n",
      "Epoch 23, CIFAR-10 Batch 1:  Loss:     2.6662; Validation Accuracy: 0.132426\n",
      "Epoch 24, CIFAR-10 Batch 1:  Loss:     2.5465; Validation Accuracy: 0.131188\n",
      "Epoch 25, CIFAR-10 Batch 1:  Loss:     2.4327; Validation Accuracy: 0.137376\n",
      "Epoch 26, CIFAR-10 Batch 1:  Loss:     2.3777; Validation Accuracy: 0.147277\n",
      "Epoch 27, CIFAR-10 Batch 1:  Loss:     2.3397; Validation Accuracy: 0.162129\n",
      "Epoch 28, CIFAR-10 Batch 1:  Loss:     2.3059; Validation Accuracy: 0.162129\n",
      "Epoch 29, CIFAR-10 Batch 1:  Loss:     2.2839; Validation Accuracy: 0.158416\n",
      "Epoch 30, CIFAR-10 Batch 1:  Loss:     2.2701; Validation Accuracy: 0.168317\n",
      "Epoch 31, CIFAR-10 Batch 1:  Loss:     2.2567; Validation Accuracy: 0.167079\n",
      "Epoch 32, CIFAR-10 Batch 1:  Loss:     2.2436; Validation Accuracy: 0.159653\n",
      "Epoch 33, CIFAR-10 Batch 1:  Loss:     2.2323; Validation Accuracy: 0.168317\n",
      "Epoch 34, CIFAR-10 Batch 1:  Loss:     2.2205; Validation Accuracy: 0.169554\n",
      "Epoch 35, CIFAR-10 Batch 1:  Loss:     2.2114; Validation Accuracy: 0.169554\n",
      "Epoch 36, CIFAR-10 Batch 1:  Loss:     2.2020; Validation Accuracy: 0.178218\n",
      "Epoch 37, CIFAR-10 Batch 1:  Loss:     2.1940; Validation Accuracy: 0.180693\n",
      "Epoch 38, CIFAR-10 Batch 1:  Loss:     2.1879; Validation Accuracy: 0.178218\n",
      "Epoch 39, CIFAR-10 Batch 1:  Loss:     2.1817; Validation Accuracy: 0.186881\n",
      "Epoch 40, CIFAR-10 Batch 1:  Loss:     2.1742; Validation Accuracy: 0.204208\n",
      "Epoch 41, CIFAR-10 Batch 1:  Loss:     2.1685; Validation Accuracy: 0.202970\n",
      "Epoch 42, CIFAR-10 Batch 1:  Loss:     2.1634; Validation Accuracy: 0.204208\n",
      "Epoch 43, CIFAR-10 Batch 1:  Loss:     2.1569; Validation Accuracy: 0.206683\n",
      "Epoch 44, CIFAR-10 Batch 1:  Loss:     2.1518; Validation Accuracy: 0.202970\n",
      "Epoch 45, CIFAR-10 Batch 1:  Loss:     2.1467; Validation Accuracy: 0.201733\n",
      "Epoch 46, CIFAR-10 Batch 1:  Loss:     2.1428; Validation Accuracy: 0.200495\n",
      "Epoch 47, CIFAR-10 Batch 1:  Loss:     2.1373; Validation Accuracy: 0.207921\n",
      "Epoch 48, CIFAR-10 Batch 1:  Loss:     2.1312; Validation Accuracy: 0.210396\n",
      "Epoch 49, CIFAR-10 Batch 1:  Loss:     2.1280; Validation Accuracy: 0.212871\n",
      "Epoch 50, CIFAR-10 Batch 1:  Loss:     2.1231; Validation Accuracy: 0.224010\n",
      "Epoch 51, CIFAR-10 Batch 1:  Loss:     2.1206; Validation Accuracy: 0.219059\n",
      "Epoch 52, CIFAR-10 Batch 1:  Loss:     2.1171; Validation Accuracy: 0.220297\n",
      "Epoch 53, CIFAR-10 Batch 1:  Loss:     2.1152; Validation Accuracy: 0.219059\n",
      "Epoch 54, CIFAR-10 Batch 1:  Loss:     2.1116; Validation Accuracy: 0.225248\n",
      "Epoch 55, CIFAR-10 Batch 1:  Loss:     2.1090; Validation Accuracy: 0.232673\n",
      "Epoch 56, CIFAR-10 Batch 1:  Loss:     2.1067; Validation Accuracy: 0.228960\n",
      "Epoch 57, CIFAR-10 Batch 1:  Loss:     2.1046; Validation Accuracy: 0.233911\n",
      "Epoch 58, CIFAR-10 Batch 1:  Loss:     2.1028; Validation Accuracy: 0.225248\n",
      "Epoch 59, CIFAR-10 Batch 1:  Loss:     2.1002; Validation Accuracy: 0.224010\n",
      "Epoch 60, CIFAR-10 Batch 1:  Loss:     2.0987; Validation Accuracy: 0.228960\n",
      "Epoch 61, CIFAR-10 Batch 1:  Loss:     2.0972; Validation Accuracy: 0.228960\n",
      "Epoch 62, CIFAR-10 Batch 1:  Loss:     2.0949; Validation Accuracy: 0.222772\n",
      "Epoch 63, CIFAR-10 Batch 1:  Loss:     2.0922; Validation Accuracy: 0.227723\n",
      "Epoch 64, CIFAR-10 Batch 1:  Loss:     2.0908; Validation Accuracy: 0.225248\n",
      "Epoch 65, CIFAR-10 Batch 1:  Loss:     2.0893; Validation Accuracy: 0.227723\n",
      "Epoch 66, CIFAR-10 Batch 1:  Loss:     2.0878; Validation Accuracy: 0.228960\n",
      "Epoch 67, CIFAR-10 Batch 1:  Loss:     2.0859; Validation Accuracy: 0.228960\n",
      "Epoch 68, CIFAR-10 Batch 1:  Loss:     2.0844; Validation Accuracy: 0.228960\n",
      "Epoch 69, CIFAR-10 Batch 1:  Loss:     2.0833; Validation Accuracy: 0.232673\n",
      "Epoch 70, CIFAR-10 Batch 1:  Loss:     2.0819; Validation Accuracy: 0.233911\n",
      "Epoch 71, CIFAR-10 Batch 1:  Loss:     2.0798; Validation Accuracy: 0.243812\n",
      "Epoch 72, CIFAR-10 Batch 1:  Loss:     2.0783; Validation Accuracy: 0.241337\n",
      "Epoch 73, CIFAR-10 Batch 1:  Loss:     2.0773; Validation Accuracy: 0.240099\n",
      "Epoch 74, CIFAR-10 Batch 1:  Loss:     2.0752; Validation Accuracy: 0.242574\n",
      "Epoch 75, CIFAR-10 Batch 1:  Loss:     2.0747; Validation Accuracy: 0.237624\n",
      "Epoch 76, CIFAR-10 Batch 1:  Loss:     2.0723; Validation Accuracy: 0.238861\n",
      "Epoch 77, CIFAR-10 Batch 1:  Loss:     2.0706; Validation Accuracy: 0.237624\n",
      "Epoch 78, CIFAR-10 Batch 1:  Loss:     2.0697; Validation Accuracy: 0.233911\n",
      "Epoch 79, CIFAR-10 Batch 1:  Loss:     2.0677; Validation Accuracy: 0.242574\n",
      "Epoch 80, CIFAR-10 Batch 1:  Loss:     2.0662; Validation Accuracy: 0.241337\n",
      "Epoch 81, CIFAR-10 Batch 1:  Loss:     2.0650; Validation Accuracy: 0.242574\n",
      "Epoch 82, CIFAR-10 Batch 1:  Loss:     2.0631; Validation Accuracy: 0.238861\n",
      "Epoch 83, CIFAR-10 Batch 1:  Loss:     2.0618; Validation Accuracy: 0.240099\n",
      "Epoch 84, CIFAR-10 Batch 1:  Loss:     2.0607; Validation Accuracy: 0.241337\n",
      "Epoch 85, CIFAR-10 Batch 1:  Loss:     2.0584; Validation Accuracy: 0.248762\n",
      "Epoch 86, CIFAR-10 Batch 1:  Loss:     2.0571; Validation Accuracy: 0.240099\n",
      "Epoch 87, CIFAR-10 Batch 1:  Loss:     2.0548; Validation Accuracy: 0.251238\n",
      "Epoch 88, CIFAR-10 Batch 1:  Loss:     2.0543; Validation Accuracy: 0.238861\n",
      "Epoch 89, CIFAR-10 Batch 1:  Loss:     2.0520; Validation Accuracy: 0.248762\n",
      "Epoch 90, CIFAR-10 Batch 1:  Loss:     2.0510; Validation Accuracy: 0.243812\n",
      "Epoch 91, CIFAR-10 Batch 1:  Loss:     2.0491; Validation Accuracy: 0.248762\n",
      "Epoch 92, CIFAR-10 Batch 1:  Loss:     2.0474; Validation Accuracy: 0.248762\n",
      "Epoch 93, CIFAR-10 Batch 1:  Loss:     2.0459; Validation Accuracy: 0.246287\n",
      "Epoch 94, CIFAR-10 Batch 1:  Loss:     2.0446; Validation Accuracy: 0.243812\n",
      "Epoch 95, CIFAR-10 Batch 1:  Loss:     2.0422; Validation Accuracy: 0.250000\n",
      "Epoch 96, CIFAR-10 Batch 1:  Loss:     2.0404; Validation Accuracy: 0.254950\n",
      "Epoch 97, CIFAR-10 Batch 1:  Loss:     2.0397; Validation Accuracy: 0.248762\n",
      "Epoch 98, CIFAR-10 Batch 1:  Loss:     2.0381; Validation Accuracy: 0.247525\n",
      "Epoch 99, CIFAR-10 Batch 1:  Loss:     2.0365; Validation Accuracy: 0.252475\n",
      "Epoch 100, CIFAR-10 Batch 1:  Loss:     2.0351; Validation Accuracy: 0.256188\n",
      "Epoch 101, CIFAR-10 Batch 1:  Loss:     2.0342; Validation Accuracy: 0.248762\n",
      "Epoch 102, CIFAR-10 Batch 1:  Loss:     2.0329; Validation Accuracy: 0.247525\n",
      "Epoch 103, CIFAR-10 Batch 1:  Loss:     2.0316; Validation Accuracy: 0.254950\n",
      "Epoch 104, CIFAR-10 Batch 1:  Loss:     2.0306; Validation Accuracy: 0.248762\n",
      "Epoch 105, CIFAR-10 Batch 1:  Loss:     2.0289; Validation Accuracy: 0.247525\n",
      "Epoch 106, CIFAR-10 Batch 1:  Loss:     2.0270; Validation Accuracy: 0.250000\n"
     ]
    },
    {
     "name": "stdout",
     "output_type": "stream",
     "text": [
      "Epoch 107, CIFAR-10 Batch 1:  Loss:     2.0259; Validation Accuracy: 0.250000\n",
      "Epoch 108, CIFAR-10 Batch 1:  Loss:     2.0247; Validation Accuracy: 0.251238\n",
      "Epoch 109, CIFAR-10 Batch 1:  Loss:     2.0234; Validation Accuracy: 0.257426\n",
      "Epoch 110, CIFAR-10 Batch 1:  Loss:     2.0220; Validation Accuracy: 0.257426\n",
      "Epoch 111, CIFAR-10 Batch 1:  Loss:     2.0206; Validation Accuracy: 0.256188\n",
      "Epoch 112, CIFAR-10 Batch 1:  Loss:     2.0201; Validation Accuracy: 0.247525\n",
      "Epoch 113, CIFAR-10 Batch 1:  Loss:     2.0181; Validation Accuracy: 0.256188\n",
      "Epoch 114, CIFAR-10 Batch 1:  Loss:     2.0173; Validation Accuracy: 0.251238\n",
      "Epoch 115, CIFAR-10 Batch 1:  Loss:     2.0162; Validation Accuracy: 0.254950\n",
      "Epoch 116, CIFAR-10 Batch 1:  Loss:     2.0151; Validation Accuracy: 0.254950\n",
      "Epoch 117, CIFAR-10 Batch 1:  Loss:     2.0145; Validation Accuracy: 0.256188\n",
      "Epoch 118, CIFAR-10 Batch 1:  Loss:     2.0137; Validation Accuracy: 0.256188\n",
      "Epoch 119, CIFAR-10 Batch 1:  Loss:     2.0125; Validation Accuracy: 0.252475\n",
      "Epoch 120, CIFAR-10 Batch 1:  Loss:     2.0120; Validation Accuracy: 0.259901\n",
      "Epoch 121, CIFAR-10 Batch 1:  Loss:     2.0112; Validation Accuracy: 0.261139\n",
      "Epoch 122, CIFAR-10 Batch 1:  Loss:     2.0104; Validation Accuracy: 0.259901\n",
      "Epoch 123, CIFAR-10 Batch 1:  Loss:     2.0090; Validation Accuracy: 0.261139\n",
      "Epoch 124, CIFAR-10 Batch 1:  Loss:     2.0083; Validation Accuracy: 0.263614\n",
      "Epoch 125, CIFAR-10 Batch 1:  Loss:     2.0071; Validation Accuracy: 0.262376\n",
      "Epoch 126, CIFAR-10 Batch 1:  Loss:     2.0063; Validation Accuracy: 0.258663\n",
      "Epoch 127, CIFAR-10 Batch 1:  Loss:     2.0044; Validation Accuracy: 0.258663\n",
      "Epoch 128, CIFAR-10 Batch 1:  Loss:     2.0035; Validation Accuracy: 0.263614\n",
      "Epoch 129, CIFAR-10 Batch 1:  Loss:     2.0028; Validation Accuracy: 0.261139\n",
      "Epoch 130, CIFAR-10 Batch 1:  Loss:     2.0021; Validation Accuracy: 0.259901\n",
      "Epoch 131, CIFAR-10 Batch 1:  Loss:     2.0009; Validation Accuracy: 0.267327\n",
      "Epoch 132, CIFAR-10 Batch 1:  Loss:     2.0002; Validation Accuracy: 0.264851\n",
      "Epoch 133, CIFAR-10 Batch 1:  Loss:     1.9994; Validation Accuracy: 0.263614\n",
      "Epoch 134, CIFAR-10 Batch 1:  Loss:     1.9991; Validation Accuracy: 0.262376\n",
      "Epoch 135, CIFAR-10 Batch 1:  Loss:     1.9975; Validation Accuracy: 0.263614\n",
      "Epoch 136, CIFAR-10 Batch 1:  Loss:     1.9965; Validation Accuracy: 0.262376\n",
      "Epoch 137, CIFAR-10 Batch 1:  Loss:     1.9954; Validation Accuracy: 0.264851\n",
      "Epoch 138, CIFAR-10 Batch 1:  Loss:     1.9956; Validation Accuracy: 0.268564\n",
      "Epoch 139, CIFAR-10 Batch 1:  Loss:     1.9945; Validation Accuracy: 0.269802\n",
      "Epoch 140, CIFAR-10 Batch 1:  Loss:     1.9938; Validation Accuracy: 0.266089\n",
      "Epoch 141, CIFAR-10 Batch 1:  Loss:     1.9925; Validation Accuracy: 0.261139\n",
      "Epoch 142, CIFAR-10 Batch 1:  Loss:     1.9926; Validation Accuracy: 0.266089\n",
      "Epoch 143, CIFAR-10 Batch 1:  Loss:     1.9920; Validation Accuracy: 0.264851\n",
      "Epoch 144, CIFAR-10 Batch 1:  Loss:     1.9910; Validation Accuracy: 0.268564\n",
      "Epoch 145, CIFAR-10 Batch 1:  Loss:     1.9901; Validation Accuracy: 0.268564\n",
      "Epoch 146, CIFAR-10 Batch 1:  Loss:     1.9891; Validation Accuracy: 0.269802\n",
      "Epoch 147, CIFAR-10 Batch 1:  Loss:     1.9883; Validation Accuracy: 0.271040\n",
      "Epoch 148, CIFAR-10 Batch 1:  Loss:     1.9877; Validation Accuracy: 0.269802\n",
      "Epoch 149, CIFAR-10 Batch 1:  Loss:     1.9869; Validation Accuracy: 0.275990\n",
      "Epoch 150, CIFAR-10 Batch 1:  Loss:     1.9860; Validation Accuracy: 0.275990\n",
      "Epoch 151, CIFAR-10 Batch 1:  Loss:     1.9849; Validation Accuracy: 0.277228\n",
      "Epoch 152, CIFAR-10 Batch 1:  Loss:     1.9844; Validation Accuracy: 0.274752\n",
      "Epoch 153, CIFAR-10 Batch 1:  Loss:     1.9842; Validation Accuracy: 0.274752\n",
      "Epoch 154, CIFAR-10 Batch 1:  Loss:     1.9832; Validation Accuracy: 0.278465\n",
      "Epoch 155, CIFAR-10 Batch 1:  Loss:     1.9833; Validation Accuracy: 0.278465\n",
      "Epoch 156, CIFAR-10 Batch 1:  Loss:     1.9821; Validation Accuracy: 0.278465\n",
      "Epoch 157, CIFAR-10 Batch 1:  Loss:     1.9808; Validation Accuracy: 0.278465\n",
      "Epoch 158, CIFAR-10 Batch 1:  Loss:     1.9802; Validation Accuracy: 0.275990\n",
      "Epoch 159, CIFAR-10 Batch 1:  Loss:     1.9795; Validation Accuracy: 0.277228\n",
      "Epoch 160, CIFAR-10 Batch 1:  Loss:     1.9790; Validation Accuracy: 0.278465\n",
      "Epoch 161, CIFAR-10 Batch 1:  Loss:     1.9785; Validation Accuracy: 0.279703\n",
      "Epoch 162, CIFAR-10 Batch 1:  Loss:     1.9787; Validation Accuracy: 0.271040\n",
      "Epoch 163, CIFAR-10 Batch 1:  Loss:     1.9766; Validation Accuracy: 0.285891\n",
      "Epoch 164, CIFAR-10 Batch 1:  Loss:     1.9760; Validation Accuracy: 0.284653\n",
      "Epoch 165, CIFAR-10 Batch 1:  Loss:     1.9756; Validation Accuracy: 0.277228\n",
      "Epoch 166, CIFAR-10 Batch 1:  Loss:     1.9744; Validation Accuracy: 0.279703\n",
      "Epoch 167, CIFAR-10 Batch 1:  Loss:     1.9736; Validation Accuracy: 0.284653\n",
      "Epoch 168, CIFAR-10 Batch 1:  Loss:     1.9726; Validation Accuracy: 0.288366\n",
      "Epoch 169, CIFAR-10 Batch 1:  Loss:     1.9724; Validation Accuracy: 0.285891\n",
      "Epoch 170, CIFAR-10 Batch 1:  Loss:     1.9716; Validation Accuracy: 0.290842\n",
      "Epoch 171, CIFAR-10 Batch 1:  Loss:     1.9709; Validation Accuracy: 0.289604\n",
      "Epoch 172, CIFAR-10 Batch 1:  Loss:     1.9702; Validation Accuracy: 0.288366\n",
      "Epoch 173, CIFAR-10 Batch 1:  Loss:     1.9692; Validation Accuracy: 0.288366\n",
      "Epoch 174, CIFAR-10 Batch 1:  Loss:     1.9679; Validation Accuracy: 0.294554\n",
      "Epoch 175, CIFAR-10 Batch 1:  Loss:     1.9677; Validation Accuracy: 0.290842\n",
      "Epoch 176, CIFAR-10 Batch 1:  Loss:     1.9673; Validation Accuracy: 0.287129\n",
      "Epoch 177, CIFAR-10 Batch 1:  Loss:     1.9671; Validation Accuracy: 0.287129\n",
      "Epoch 178, CIFAR-10 Batch 1:  Loss:     1.9663; Validation Accuracy: 0.285891\n",
      "Epoch 179, CIFAR-10 Batch 1:  Loss:     1.9658; Validation Accuracy: 0.285891\n",
      "Epoch 180, CIFAR-10 Batch 1:  Loss:     1.9657; Validation Accuracy: 0.285891\n",
      "Epoch 181, CIFAR-10 Batch 1:  Loss:     1.9651; Validation Accuracy: 0.283416\n",
      "Epoch 182, CIFAR-10 Batch 1:  Loss:     1.9640; Validation Accuracy: 0.287129\n",
      "Epoch 183, CIFAR-10 Batch 1:  Loss:     1.9634; Validation Accuracy: 0.287129\n",
      "Epoch 184, CIFAR-10 Batch 1:  Loss:     1.9631; Validation Accuracy: 0.285891\n",
      "Epoch 185, CIFAR-10 Batch 1:  Loss:     1.9630; Validation Accuracy: 0.278465\n",
      "Epoch 186, CIFAR-10 Batch 1:  Loss:     1.9621; Validation Accuracy: 0.285891\n",
      "Epoch 187, CIFAR-10 Batch 1:  Loss:     1.9618; Validation Accuracy: 0.292079\n",
      "Epoch 188, CIFAR-10 Batch 1:  Loss:     1.9616; Validation Accuracy: 0.288366\n",
      "Epoch 189, CIFAR-10 Batch 1:  Loss:     1.9615; Validation Accuracy: 0.280941\n",
      "Epoch 190, CIFAR-10 Batch 1:  Loss:     1.9601; Validation Accuracy: 0.285891\n",
      "Epoch 191, CIFAR-10 Batch 1:  Loss:     1.9587; Validation Accuracy: 0.287129\n",
      "Epoch 192, CIFAR-10 Batch 1:  Loss:     1.9578; Validation Accuracy: 0.292079\n",
      "Epoch 193, CIFAR-10 Batch 1:  Loss:     1.9572; Validation Accuracy: 0.290842\n",
      "Epoch 194, CIFAR-10 Batch 1:  Loss:     1.9572; Validation Accuracy: 0.284653\n",
      "Epoch 195, CIFAR-10 Batch 1:  Loss:     1.9564; Validation Accuracy: 0.285891\n",
      "Epoch 196, CIFAR-10 Batch 1:  Loss:     1.9557; Validation Accuracy: 0.288366\n",
      "Epoch 197, CIFAR-10 Batch 1:  Loss:     1.9556; Validation Accuracy: 0.284653\n",
      "Epoch 198, CIFAR-10 Batch 1:  Loss:     1.9546; Validation Accuracy: 0.284653\n",
      "Epoch 199, CIFAR-10 Batch 1:  Loss:     1.9541; Validation Accuracy: 0.294554\n",
      "Epoch 200, CIFAR-10 Batch 1:  Loss:     1.9537; Validation Accuracy: 0.293317\n",
      "Epoch 201, CIFAR-10 Batch 1:  Loss:     1.9533; Validation Accuracy: 0.290842\n",
      "Epoch 202, CIFAR-10 Batch 1:  Loss:     1.9527; Validation Accuracy: 0.290842\n",
      "Epoch 203, CIFAR-10 Batch 1:  Loss:     1.9520; Validation Accuracy: 0.290842\n",
      "Epoch 204, CIFAR-10 Batch 1:  Loss:     1.9514; Validation Accuracy: 0.290842\n",
      "Epoch 205, CIFAR-10 Batch 1:  Loss:     1.9511; Validation Accuracy: 0.292079\n",
      "Epoch 206, CIFAR-10 Batch 1:  Loss:     1.9501; Validation Accuracy: 0.298267\n",
      "Epoch 207, CIFAR-10 Batch 1:  Loss:     1.9493; Validation Accuracy: 0.294554\n",
      "Epoch 208, CIFAR-10 Batch 1:  Loss:     1.9490; Validation Accuracy: 0.288366\n",
      "Epoch 209, CIFAR-10 Batch 1:  Loss:     1.9487; Validation Accuracy: 0.285891\n",
      "Epoch 210, CIFAR-10 Batch 1:  Loss:     1.9479; Validation Accuracy: 0.287129\n",
      "Epoch 211, CIFAR-10 Batch 1:  Loss:     1.9475; Validation Accuracy: 0.289604\n",
      "Epoch 212, CIFAR-10 Batch 1:  Loss:     1.9469; Validation Accuracy: 0.289604\n"
     ]
    },
    {
     "name": "stdout",
     "output_type": "stream",
     "text": [
      "Epoch 213, CIFAR-10 Batch 1:  Loss:     1.9469; Validation Accuracy: 0.288366\n",
      "Epoch 214, CIFAR-10 Batch 1:  Loss:     1.9461; Validation Accuracy: 0.283416\n",
      "Epoch 215, CIFAR-10 Batch 1:  Loss:     1.9454; Validation Accuracy: 0.290842\n",
      "Epoch 216, CIFAR-10 Batch 1:  Loss:     1.9441; Validation Accuracy: 0.289604\n",
      "Epoch 217, CIFAR-10 Batch 1:  Loss:     1.9443; Validation Accuracy: 0.293317\n",
      "Epoch 218, CIFAR-10 Batch 1:  Loss:     1.9424; Validation Accuracy: 0.287129\n",
      "Epoch 219, CIFAR-10 Batch 1:  Loss:     1.9416; Validation Accuracy: 0.292079\n",
      "Epoch 220, CIFAR-10 Batch 1:  Loss:     1.9412; Validation Accuracy: 0.290842\n",
      "Epoch 221, CIFAR-10 Batch 1:  Loss:     1.9408; Validation Accuracy: 0.289604\n",
      "Epoch 222, CIFAR-10 Batch 1:  Loss:     1.9399; Validation Accuracy: 0.288366\n",
      "Epoch 223, CIFAR-10 Batch 1:  Loss:     1.9393; Validation Accuracy: 0.293317\n",
      "Epoch 224, CIFAR-10 Batch 1:  Loss:     1.9388; Validation Accuracy: 0.290842\n",
      "Epoch 225, CIFAR-10 Batch 1:  Loss:     1.9386; Validation Accuracy: 0.288366\n",
      "Epoch 226, CIFAR-10 Batch 1:  Loss:     1.9383; Validation Accuracy: 0.287129\n",
      "Epoch 227, CIFAR-10 Batch 1:  Loss:     1.9367; Validation Accuracy: 0.293317\n",
      "Epoch 228, CIFAR-10 Batch 1:  Loss:     1.9364; Validation Accuracy: 0.294554\n",
      "Epoch 229, CIFAR-10 Batch 1:  Loss:     1.9355; Validation Accuracy: 0.295792\n",
      "Epoch 230, CIFAR-10 Batch 1:  Loss:     1.9350; Validation Accuracy: 0.293317\n",
      "Epoch 231, CIFAR-10 Batch 1:  Loss:     1.9346; Validation Accuracy: 0.295792\n",
      "Epoch 232, CIFAR-10 Batch 1:  Loss:     1.9339; Validation Accuracy: 0.294554\n",
      "Epoch 233, CIFAR-10 Batch 1:  Loss:     1.9334; Validation Accuracy: 0.297030\n",
      "Epoch 234, CIFAR-10 Batch 1:  Loss:     1.9324; Validation Accuracy: 0.299505\n",
      "Epoch 235, CIFAR-10 Batch 1:  Loss:     1.9320; Validation Accuracy: 0.295792\n",
      "Epoch 236, CIFAR-10 Batch 1:  Loss:     1.9319; Validation Accuracy: 0.292079\n",
      "Epoch 237, CIFAR-10 Batch 1:  Loss:     1.9308; Validation Accuracy: 0.298267\n",
      "Epoch 238, CIFAR-10 Batch 1:  Loss:     1.9307; Validation Accuracy: 0.297030\n",
      "Epoch 239, CIFAR-10 Batch 1:  Loss:     1.9298; Validation Accuracy: 0.299505\n",
      "Epoch 240, CIFAR-10 Batch 1:  Loss:     1.9290; Validation Accuracy: 0.298267\n",
      "Epoch 241, CIFAR-10 Batch 1:  Loss:     1.9288; Validation Accuracy: 0.299505\n",
      "Epoch 242, CIFAR-10 Batch 1:  Loss:     1.9285; Validation Accuracy: 0.297030\n",
      "Epoch 243, CIFAR-10 Batch 1:  Loss:     1.9288; Validation Accuracy: 0.294554\n",
      "Epoch 244, CIFAR-10 Batch 1:  Loss:     1.9277; Validation Accuracy: 0.293317\n",
      "Epoch 245, CIFAR-10 Batch 1:  Loss:     1.9262; Validation Accuracy: 0.294554\n",
      "Epoch 246, CIFAR-10 Batch 1:  Loss:     1.9258; Validation Accuracy: 0.297030\n",
      "Epoch 247, CIFAR-10 Batch 1:  Loss:     1.9257; Validation Accuracy: 0.299505\n",
      "Epoch 248, CIFAR-10 Batch 1:  Loss:     1.9257; Validation Accuracy: 0.299505\n",
      "Epoch 249, CIFAR-10 Batch 1:  Loss:     1.9255; Validation Accuracy: 0.297030\n",
      "Epoch 250, CIFAR-10 Batch 1:  Loss:     1.9248; Validation Accuracy: 0.295792\n",
      "Epoch 251, CIFAR-10 Batch 1:  Loss:     1.9234; Validation Accuracy: 0.295792\n",
      "Epoch 252, CIFAR-10 Batch 1:  Loss:     1.9228; Validation Accuracy: 0.294554\n",
      "Epoch 253, CIFAR-10 Batch 1:  Loss:     1.9223; Validation Accuracy: 0.298267\n",
      "Epoch 254, CIFAR-10 Batch 1:  Loss:     1.9222; Validation Accuracy: 0.299505\n",
      "Epoch 255, CIFAR-10 Batch 1:  Loss:     1.9220; Validation Accuracy: 0.304455\n",
      "Epoch 256, CIFAR-10 Batch 1:  Loss:     1.9219; Validation Accuracy: 0.300743\n",
      "Epoch 257, CIFAR-10 Batch 1:  Loss:     1.9216; Validation Accuracy: 0.301980\n",
      "Epoch 258, CIFAR-10 Batch 1:  Loss:     1.9214; Validation Accuracy: 0.304455\n",
      "Epoch 259, CIFAR-10 Batch 1:  Loss:     1.9209; Validation Accuracy: 0.308168\n",
      "Epoch 260, CIFAR-10 Batch 1:  Loss:     1.9208; Validation Accuracy: 0.300743\n",
      "Epoch 261, CIFAR-10 Batch 1:  Loss:     1.9202; Validation Accuracy: 0.300743\n",
      "Epoch 262, CIFAR-10 Batch 1:  Loss:     1.9199; Validation Accuracy: 0.301980\n",
      "Epoch 263, CIFAR-10 Batch 1:  Loss:     1.9195; Validation Accuracy: 0.305693\n",
      "Epoch 264, CIFAR-10 Batch 1:  Loss:     1.9190; Validation Accuracy: 0.306931\n",
      "Epoch 265, CIFAR-10 Batch 1:  Loss:     1.9191; Validation Accuracy: 0.301980\n",
      "Epoch 266, CIFAR-10 Batch 1:  Loss:     1.9184; Validation Accuracy: 0.301980\n",
      "Epoch 267, CIFAR-10 Batch 1:  Loss:     1.9182; Validation Accuracy: 0.303218\n",
      "Epoch 268, CIFAR-10 Batch 1:  Loss:     1.9182; Validation Accuracy: 0.299505\n",
      "Epoch 269, CIFAR-10 Batch 1:  Loss:     1.9176; Validation Accuracy: 0.303218\n",
      "Epoch 270, CIFAR-10 Batch 1:  Loss:     1.9176; Validation Accuracy: 0.299505\n",
      "Epoch 271, CIFAR-10 Batch 1:  Loss:     1.9165; Validation Accuracy: 0.297030\n",
      "Epoch 272, CIFAR-10 Batch 1:  Loss:     1.9162; Validation Accuracy: 0.299505\n",
      "Epoch 273, CIFAR-10 Batch 1:  Loss:     1.9157; Validation Accuracy: 0.298267\n",
      "Epoch 274, CIFAR-10 Batch 1:  Loss:     1.9154; Validation Accuracy: 0.295792\n",
      "Epoch 275, CIFAR-10 Batch 1:  Loss:     1.9155; Validation Accuracy: 0.299505\n",
      "Epoch 276, CIFAR-10 Batch 1:  Loss:     1.9151; Validation Accuracy: 0.299505\n",
      "Epoch 277, CIFAR-10 Batch 1:  Loss:     1.9150; Validation Accuracy: 0.299505\n",
      "Epoch 278, CIFAR-10 Batch 1:  Loss:     1.9140; Validation Accuracy: 0.299505\n",
      "Epoch 279, CIFAR-10 Batch 1:  Loss:     1.9136; Validation Accuracy: 0.298267\n",
      "Epoch 280, CIFAR-10 Batch 1:  Loss:     1.9135; Validation Accuracy: 0.301980\n",
      "Epoch 281, CIFAR-10 Batch 1:  Loss:     1.9131; Validation Accuracy: 0.300743\n",
      "Epoch 282, CIFAR-10 Batch 1:  Loss:     1.9127; Validation Accuracy: 0.301980\n",
      "Epoch 283, CIFAR-10 Batch 1:  Loss:     1.9120; Validation Accuracy: 0.300743\n",
      "Epoch 284, CIFAR-10 Batch 1:  Loss:     1.9118; Validation Accuracy: 0.299505\n",
      "Epoch 285, CIFAR-10 Batch 1:  Loss:     1.9114; Validation Accuracy: 0.301980\n",
      "Epoch 286, CIFAR-10 Batch 1:  Loss:     1.9113; Validation Accuracy: 0.298267\n",
      "Epoch 287, CIFAR-10 Batch 1:  Loss:     1.9112; Validation Accuracy: 0.300743\n",
      "Epoch 288, CIFAR-10 Batch 1:  Loss:     1.9108; Validation Accuracy: 0.298267\n",
      "Epoch 289, CIFAR-10 Batch 1:  Loss:     1.9096; Validation Accuracy: 0.299505\n",
      "Epoch 290, CIFAR-10 Batch 1:  Loss:     1.9095; Validation Accuracy: 0.299505\n",
      "Epoch 291, CIFAR-10 Batch 1:  Loss:     1.9100; Validation Accuracy: 0.297030\n",
      "Epoch 292, CIFAR-10 Batch 1:  Loss:     1.9098; Validation Accuracy: 0.304455\n",
      "Epoch 293, CIFAR-10 Batch 1:  Loss:     1.9092; Validation Accuracy: 0.301980\n",
      "Epoch 294, CIFAR-10 Batch 1:  Loss:     1.9087; Validation Accuracy: 0.303218\n",
      "Epoch 295, CIFAR-10 Batch 1:  Loss:     1.9081; Validation Accuracy: 0.301980\n",
      "Epoch 296, CIFAR-10 Batch 1:  Loss:     1.9076; Validation Accuracy: 0.306931\n",
      "Epoch 297, CIFAR-10 Batch 1:  Loss:     1.9072; Validation Accuracy: 0.298267\n",
      "Epoch 298, CIFAR-10 Batch 1:  Loss:     1.9070; Validation Accuracy: 0.300743\n",
      "Epoch 299, CIFAR-10 Batch 1:  Loss:     1.9067; Validation Accuracy: 0.299505\n",
      "Epoch 300, CIFAR-10 Batch 1:  Loss:     1.9061; Validation Accuracy: 0.305693\n"
     ]
    }
   ],
   "source": [
    "\"\"\"\n",
    "DON'T MODIFY ANYTHING IN THIS CELL\n",
    "\"\"\"\n",
    "print('Checking the Training on a Single Batch...')\n",
    "with tf.Session() as sess:\n",
    "    # Initializing the variables\n",
    "    sess.run(tf.global_variables_initializer())\n",
    "    \n",
    "    # Training cycle\n",
    "    for epoch in range(epochs):\n",
    "        batch_i = 1\n",
    "        for batch_features, batch_labels in helper.load_preprocess_training_batch(batch_i, batch_size):\n",
    "            train_neural_network(sess, optimizer, keep_probability, batch_features, batch_labels)\n",
    "        print('Epoch {:>2}, CIFAR-10 Batch {}:  '.format(epoch + 1, batch_i), end='')\n",
    "        print_stats(sess, batch_features, batch_labels, cost, accuracy)"
   ]
  },
  {
   "cell_type": "markdown",
   "metadata": {},
   "source": [
    "### Fully Train the Model\n",
    "Now that you got a good accuracy with a single CIFAR-10 batch, try it with all five batches."
   ]
  },
  {
   "cell_type": "code",
   "execution_count": null,
   "metadata": {
    "collapsed": true
   },
   "outputs": [],
   "source": [
    "\"\"\"\n",
    "DON'T MODIFY ANYTHING IN THIS CELL\n",
    "\"\"\"\n",
    "save_model_path = './image_classification'\n",
    "\n",
    "print('Training...')\n",
    "with tf.Session() as sess:\n",
    "    # Initializing the variables\n",
    "    sess.run(tf.global_variables_initializer())\n",
    "    \n",
    "    # Training cycle\n",
    "    for epoch in range(epochs):\n",
    "        # Loop over all batches\n",
    "        n_batches = 5\n",
    "        for batch_i in range(1, n_batches + 1):\n",
    "            for batch_features, batch_labels in helper.load_preprocess_training_batch(batch_i, batch_size):\n",
    "                train_neural_network(sess, optimizer, keep_probability, batch_features, batch_labels)\n",
    "            print('Epoch {:>2}, CIFAR-10 Batch {}:  '.format(epoch + 1, batch_i), end='')\n",
    "            print_stats(sess, batch_features, batch_labels, cost, accuracy)\n",
    "            \n",
    "    # Save Model\n",
    "    saver = tf.train.Saver()\n",
    "    save_path = saver.save(sess, save_model_path)"
   ]
  },
  {
   "cell_type": "markdown",
   "metadata": {},
   "source": [
    "# Checkpoint\n",
    "The model has been saved to disk.\n",
    "## Test Model\n",
    "Test your model against the test dataset.  This will be your final accuracy. You should have an accuracy greater than 50%. If you don't, keep tweaking the model architecture and parameters."
   ]
  },
  {
   "cell_type": "code",
   "execution_count": null,
   "metadata": {
    "collapsed": true
   },
   "outputs": [],
   "source": [
    "\"\"\"\n",
    "DON'T MODIFY ANYTHING IN THIS CELL\n",
    "\"\"\"\n",
    "%matplotlib inline\n",
    "%config InlineBackend.figure_format = 'retina'\n",
    "\n",
    "import tensorflow as tf\n",
    "import pickle\n",
    "import helper\n",
    "import random\n",
    "\n",
    "# Set batch size if not already set\n",
    "try:\n",
    "    if batch_size:\n",
    "        pass\n",
    "except NameError:\n",
    "    batch_size = 64\n",
    "\n",
    "save_model_path = './image_classification'\n",
    "n_samples = 4\n",
    "top_n_predictions = 3\n",
    "\n",
    "def test_model():\n",
    "    \"\"\"\n",
    "    Test the saved model against the test dataset\n",
    "    \"\"\"\n",
    "\n",
    "    test_features, test_labels = pickle.load(open('preprocess_test.p', mode='rb'))\n",
    "    loaded_graph = tf.Graph()\n",
    "\n",
    "    with tf.Session(graph=loaded_graph) as sess:\n",
    "        # Load model\n",
    "        loader = tf.train.import_meta_graph(save_model_path + '.meta')\n",
    "        loader.restore(sess, save_model_path)\n",
    "\n",
    "        # Get Tensors from loaded model\n",
    "        loaded_x = loaded_graph.get_tensor_by_name('x:0')\n",
    "        loaded_y = loaded_graph.get_tensor_by_name('y:0')\n",
    "        loaded_keep_prob = loaded_graph.get_tensor_by_name('keep_prob:0')\n",
    "        loaded_logits = loaded_graph.get_tensor_by_name('logits:0')\n",
    "        loaded_acc = loaded_graph.get_tensor_by_name('accuracy:0')\n",
    "        \n",
    "        # Get accuracy in batches for memory limitations\n",
    "        test_batch_acc_total = 0\n",
    "        test_batch_count = 0\n",
    "        \n",
    "        for test_feature_batch, test_label_batch in helper.batch_features_labels(test_features, test_labels, batch_size):\n",
    "            test_batch_acc_total += sess.run(\n",
    "                loaded_acc,\n",
    "                feed_dict={loaded_x: test_feature_batch, loaded_y: test_label_batch, loaded_keep_prob: 1.0})\n",
    "            test_batch_count += 1\n",
    "\n",
    "        print('Testing Accuracy: {}\\n'.format(test_batch_acc_total/test_batch_count))\n",
    "\n",
    "        # Print Random Samples\n",
    "        random_test_features, random_test_labels = tuple(zip(*random.sample(list(zip(test_features, test_labels)), n_samples)))\n",
    "        random_test_predictions = sess.run(\n",
    "            tf.nn.top_k(tf.nn.softmax(loaded_logits), top_n_predictions),\n",
    "            feed_dict={loaded_x: random_test_features, loaded_y: random_test_labels, loaded_keep_prob: 1.0})\n",
    "        helper.display_image_predictions(random_test_features, random_test_labels, random_test_predictions)\n",
    "\n",
    "\n",
    "test_model()"
   ]
  },
  {
   "cell_type": "markdown",
   "metadata": {},
   "source": [
    "## Why 50-80% Accuracy?\n",
    "You might be wondering why you can't get an accuracy any higher. First things first, 50% isn't bad for a simple CNN.  Pure guessing would get you 10% accuracy. However, you might notice people are getting scores [well above 80%](http://rodrigob.github.io/are_we_there_yet/build/classification_datasets_results.html#43494641522d3130).  That's because we haven't taught you all there is to know about neural networks. We still need to cover a few more techniques.\n",
    "## Submitting This Project\n",
    "When submitting this project, make sure to run all the cells before saving the notebook.  Save the notebook file as \"dlnd_image_classification.ipynb\" and save it as a HTML file under \"File\" -> \"Download as\".  Include the \"helper.py\" and \"problem_unittests.py\" files in your submission."
   ]
  }
 ],
 "metadata": {
  "kernelspec": {
   "display_name": "Python 3",
   "language": "python",
   "name": "python3"
  },
  "language_info": {
   "codemirror_mode": {
    "name": "ipython",
    "version": 3
   },
   "file_extension": ".py",
   "mimetype": "text/x-python",
   "name": "python",
   "nbconvert_exporter": "python",
   "pygments_lexer": "ipython3",
   "version": "3.5.3"
  }
 },
 "nbformat": 4,
 "nbformat_minor": 1
}
